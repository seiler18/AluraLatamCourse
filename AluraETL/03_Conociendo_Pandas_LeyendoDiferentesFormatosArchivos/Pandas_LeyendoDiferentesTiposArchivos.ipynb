{
  "cells": [
    {
      "cell_type": "markdown",
      "metadata": {
        "id": "kpSFmUqkR38M"
      },
      "source": [
        "##**Aula 1 - Leyendo archivos CSV**"
      ]
    },
    {
      "cell_type": "markdown",
      "metadata": {
        "id": "3Y6rZlbkR7Em"
      },
      "source": [
        "###**Importando archivos CSV**"
      ]
    },
    {
      "cell_type": "code",
      "execution_count": null,
      "metadata": {
        "id": "9hop9Su4RptH"
      },
      "outputs": [],
      "source": [
        "import pandas as pd"
      ]
    },
    {
      "cell_type": "code",
      "execution_count": null,
      "metadata": {
        "id": "gLG10aHjR9EU"
      },
      "outputs": [],
      "source": [
        "datos = pd.read_csv('data/superstore_data.csv')"
      ]
    },
    {
      "cell_type": "code",
      "execution_count": null,
      "metadata": {
        "colab": {
          "base_uri": "https://localhost:8080/",
          "height": 256
        },
        "id": "jMGT8-uNR9G4",
        "outputId": "bcb12e3a-80f5-48e9-99a2-267f56dcd1e7"
      },
      "outputs": [],
      "source": [
        "datos.head()"
      ]
    },
    {
      "cell_type": "code",
      "execution_count": null,
      "metadata": {
        "id": "Zly4YSTLSHRV"
      },
      "outputs": [],
      "source": [
        "datos_punto_coma = pd.read_csv('data/superstore_data_punto_coma.csv')"
      ]
    },
    {
      "cell_type": "code",
      "execution_count": null,
      "metadata": {
        "colab": {
          "base_uri": "https://localhost:8080/",
          "height": 226
        },
        "id": "QHRB4dYjSHTh",
        "outputId": "f2188032-4616-4c76-8ecb-8e0b0a6d4ec4"
      },
      "outputs": [],
      "source": [
        "datos_punto_coma.head()"
      ]
    },
    {
      "cell_type": "markdown",
      "metadata": {
        "id": "NYS6LsnUSNxf"
      },
      "source": [
        "###**Parámetros de la función read_csv**\n",
        "Documentación: https://pandas.pydata.org/pandas-docs/stable/reference/api/pandas.read_csv.html"
      ]
    },
    {
      "cell_type": "code",
      "execution_count": null,
      "metadata": {
        "id": "Fl3Scblt6T9z"
      },
      "outputs": [],
      "source": [
        "datos_punto_coma = pd.read_csv('data/superstore_data_punto_coma.csv', sep = ';')"
      ]
    },
    {
      "cell_type": "code",
      "execution_count": null,
      "metadata": {
        "colab": {
          "base_uri": "https://localhost:8080/",
          "height": 444
        },
        "id": "vYEXFwA371ux",
        "outputId": "1c98c93b-ab3e-404b-ecca-4a77def13777"
      },
      "outputs": [],
      "source": [
        "datos_punto_coma"
      ]
    },
    {
      "cell_type": "code",
      "execution_count": null,
      "metadata": {
        "colab": {
          "base_uri": "https://localhost:8080/",
          "height": 256
        },
        "id": "WUBt-fs0K_oM",
        "outputId": "4157bdb3-a9a5-4c16-8a14-b3ec7a8da0b3"
      },
      "outputs": [],
      "source": [
        "datos_primeras_lineas = pd.read_csv('data/superstore_data.csv',nrows=5)\n",
        "datos_primeras_lineas"
      ]
    },
    {
      "cell_type": "code",
      "execution_count": null,
      "metadata": {
        "colab": {
          "base_uri": "https://localhost:8080/",
          "height": 424
        },
        "id": "qaPSsZ_AK_ze",
        "outputId": "7aa62343-97a1-420e-c2c3-ea672b8a3b4a"
      },
      "outputs": [],
      "source": [
        "datos_seleccion = pd.read_csv('data/superstore_data.csv', usecols=['Id', 'Year_Birth', 'Income'])\n",
        "datos_seleccion"
      ]
    },
    {
      "cell_type": "code",
      "execution_count": null,
      "metadata": {
        "colab": {
          "base_uri": "https://localhost:8080/",
          "height": 424
        },
        "id": "oiJZ-NR8K_62",
        "outputId": "809a76a1-54ec-4b02-fd1d-83d47c8d4d99"
      },
      "outputs": [],
      "source": [
        "datos_seleccion = pd.read_csv('data/superstore_data.csv', usecols=[0,1,4])\n",
        "datos_seleccion"
      ]
    },
    {
      "cell_type": "markdown",
      "metadata": {
        "id": "l0psP9t5AbvH"
      },
      "source": [
        "###**Escribiendo archivos CSV**\n",
        "\n",
        "Documentación: https://pandas.pydata.org/docs/reference/api/pandas.DataFrame.to_csv.html"
      ]
    },
    {
      "cell_type": "code",
      "execution_count": null,
      "metadata": {
        "id": "-k3SgjCSk5lp"
      },
      "outputs": [],
      "source": [
        "datos_seleccion.to_csv('data/clientes_mercado.csv')"
      ]
    },
    {
      "cell_type": "code",
      "execution_count": null,
      "metadata": {
        "colab": {
          "base_uri": "https://localhost:8080/",
          "height": 424
        },
        "id": "HiHslm7FlGbD",
        "outputId": "866ae531-e493-4f6a-a11f-fc26f15475fb"
      },
      "outputs": [],
      "source": [
        "clientes_mercado = pd.read_csv('data/clientes_mercado.csv')\n",
        "clientes_mercado"
      ]
    },
    {
      "cell_type": "code",
      "execution_count": null,
      "metadata": {
        "id": "SZEnpG7PjPKs"
      },
      "outputs": [],
      "source": [
        "datos_seleccion.to_csv('data/datos_mercado.csv', index=False)"
      ]
    },
    {
      "cell_type": "code",
      "execution_count": null,
      "metadata": {
        "colab": {
          "base_uri": "https://localhost:8080/",
          "height": 424
        },
        "id": "xkFNJ3FDko0W",
        "outputId": "17472403-25f3-464a-ca4e-9e1266493b58"
      },
      "outputs": [],
      "source": [
        "datos_mercado = pd.read_csv('data/datos_mercado.csv')\n",
        "datos_mercado"
      ]
    },
    {
      "cell_type": "markdown",
      "metadata": {
        "id": "TtY5qySo_tO-"
      },
      "source": [
        "##**Aula 2 - Leyendo archivos Excel**"
      ]
    },
    {
      "cell_type": "markdown",
      "metadata": {
        "id": "CAvQWlTsAg-_"
      },
      "source": [
        "###**Importando archivos Excel**"
      ]
    },
    {
      "cell_type": "code",
      "execution_count": null,
      "metadata": {
        "id": "LRsK8UngGXF1"
      },
      "outputs": [],
      "source": [
        "import pandas as pd\n",
        "%pip install openpyxl\n",
        "%pip install xlrd\n",
        "%pip install pyxlsb"
      ]
    },
    {
      "cell_type": "code",
      "execution_count": null,
      "metadata": {
        "id": "O1HROoeWAavR"
      },
      "outputs": [],
      "source": [
        "archivo = 'data/emisiones_CO2.xlsx'"
      ]
    },
    {
      "cell_type": "code",
      "execution_count": null,
      "metadata": {
        "id": "A9MFFnIPGXIV"
      },
      "outputs": [],
      "source": [
        "datos_co2 = pd.read_excel(archivo)"
      ]
    },
    {
      "cell_type": "code",
      "execution_count": null,
      "metadata": {
        "colab": {
          "base_uri": "https://localhost:8080/",
          "height": 206
        },
        "id": "aMZ2bFl0KTeO",
        "outputId": "eaf2a9e4-b09b-44ee-c3d9-bbd117c1a1f6"
      },
      "outputs": [],
      "source": [
        "datos_co2.head()"
      ]
    },
    {
      "cell_type": "code",
      "execution_count": null,
      "metadata": {
        "colab": {
          "base_uri": "https://localhost:8080/"
        },
        "id": "5U0gxqjdMEuZ",
        "outputId": "4cc14930-2a3d-491f-93da-8ccae731f018"
      },
      "outputs": [],
      "source": [
        "pd.ExcelFile(archivo).sheet_names"
      ]
    },
    {
      "cell_type": "markdown",
      "metadata": {
        "id": "qbP9g4RKa0VH"
      },
      "source": [
        "###**Parámetros de la función read_excel**\n",
        "\n",
        "Documentación: https://pandas.pydata.org/docs/reference/api/pandas.read_excel.html"
      ]
    },
    {
      "cell_type": "code",
      "execution_count": null,
      "metadata": {
        "id": "qKVHmfPYKc-U"
      },
      "outputs": [],
      "source": [
        "percapita = pd.read_excel(archivo, sheet_name='emisiones_percapita')"
      ]
    },
    {
      "cell_type": "code",
      "execution_count": null,
      "metadata": {
        "colab": {
          "base_uri": "https://localhost:8080/",
          "height": 206
        },
        "id": "AKT7zwGwKpOc",
        "outputId": "c6401e9f-ccce-4978-f9d6-0899430c2c91"
      },
      "outputs": [],
      "source": [
        "percapita.head()"
      ]
    },
    {
      "cell_type": "code",
      "execution_count": null,
      "metadata": {
        "id": "8yytRxClKx-L"
      },
      "outputs": [],
      "source": [
        "fuentes = pd.read_excel(archivo, sheet_name='fuentes')"
      ]
    },
    {
      "cell_type": "code",
      "execution_count": null,
      "metadata": {
        "colab": {
          "base_uri": "https://localhost:8080/",
          "height": 206
        },
        "id": "sCunf8-XK11d",
        "outputId": "4fe5c11d-4d62-4b92-c65e-9047465cc2fe"
      },
      "outputs": [],
      "source": [
        "fuentes.head()"
      ]
    },
    {
      "cell_type": "code",
      "execution_count": null,
      "metadata": {
        "id": "gU-Dr5q5a6VV"
      },
      "outputs": [],
      "source": [
        "intervalo = pd.read_excel(archivo, sheet_name='emisiones_C02', usecols= 'A:D')"
      ]
    },
    {
      "cell_type": "code",
      "execution_count": null,
      "metadata": {
        "colab": {
          "base_uri": "https://localhost:8080/",
          "height": 424
        },
        "id": "mPEtECZWa6cm",
        "outputId": "64987930-840b-481a-ff7e-ecfa6de2abe3"
      },
      "outputs": [],
      "source": [
        "intervalo"
      ]
    },
    {
      "cell_type": "code",
      "execution_count": null,
      "metadata": {
        "id": "cW3RhLAkT0Yj"
      },
      "outputs": [],
      "source": [
        "intervalo_2 = pd.read_excel(archivo, sheet_name='emisiones_C02', usecols= 'A:D', nrows=10)"
      ]
    },
    {
      "cell_type": "code",
      "execution_count": null,
      "metadata": {
        "colab": {
          "base_uri": "https://localhost:8080/",
          "height": 363
        },
        "id": "grUbjNFKT6uA",
        "outputId": "db3b1eb3-d6b5-46ff-a99c-6f8341a3aaa2"
      },
      "outputs": [],
      "source": [
        "intervalo_2"
      ]
    },
    {
      "cell_type": "markdown",
      "metadata": {
        "id": "IK3DRdzVAhG6"
      },
      "source": [
        "###**Escribiendo archivos Excel**"
      ]
    },
    {
      "cell_type": "code",
      "execution_count": null,
      "metadata": {
        "id": "SBuYqmLNRj_d"
      },
      "outputs": [],
      "source": [
        "percapita.to_excel('data/co2_percapita.xlsx', index=False)"
      ]
    },
    {
      "cell_type": "code",
      "execution_count": null,
      "metadata": {
        "colab": {
          "base_uri": "https://localhost:8080/",
          "height": 424
        },
        "id": "zbvMy8R1R4lp",
        "outputId": "18d790c1-affd-4191-ff13-f6b2566a9134"
      },
      "outputs": [],
      "source": [
        "pd.read_excel('data/co2_percapita.xlsx')"
      ]
    },
    {
      "cell_type": "markdown",
      "metadata": {
        "id": "GDpur7scfFlw"
      },
      "source": [
        "###**Leyendo datos de Google Sheets**"
      ]
    },
    {
      "cell_type": "markdown",
      "metadata": {
        "id": "U-E1-ZMdBt0v"
      },
      "source": [
        "link: https://docs.google.com/spreadsheets/d/1mRsV8OYjogOx_6neuNbboxvJaRpySydVN7mn6zBOn0I/edit?usp=sharing"
      ]
    },
    {
      "cell_type": "code",
      "execution_count": null,
      "metadata": {
        "id": "8lxenQpajyiE"
      },
      "outputs": [],
      "source": [
        "sheet_id = '1mRsV8OYjogOx_6neuNbboxvJaRpySydVN7mn6zBOn0I'\n",
        "url = f'https://docs.google.com/spreadsheets/d/{sheet_id}/gviz/tq?tqx=out:csv&sheet'"
      ]
    },
    {
      "cell_type": "code",
      "execution_count": null,
      "metadata": {
        "id": "dv9y1bTupyoW"
      },
      "outputs": [],
      "source": [
        "datos_co2_sheets = pd.read_csv(url)"
      ]
    },
    {
      "cell_type": "code",
      "execution_count": null,
      "metadata": {
        "colab": {
          "base_uri": "https://localhost:8080/",
          "height": 424
        },
        "id": "IZ7dW_gAp1vT",
        "outputId": "268e413b-44dd-41ee-ec4a-b351d90cb064"
      },
      "outputs": [],
      "source": [
        "datos_co2_sheets"
      ]
    },
    {
      "cell_type": "code",
      "execution_count": null,
      "metadata": {
        "id": "-4n9ayZLg35U"
      },
      "outputs": [],
      "source": [
        "sheet_id = '1mRsV8OYjogOx_6neuNbboxvJaRpySydVN7mn6zBOn0I'\n",
        "sheet_name = 'emisiones_percapita'\n",
        "url_percapita = f'https://docs.google.com/spreadsheets/d/{sheet_id}/gviz/tq?tqx=out:csv&sheet={sheet_name}'"
      ]
    },
    {
      "cell_type": "code",
      "execution_count": null,
      "metadata": {
        "id": "yeQ9Phj1ggeG"
      },
      "outputs": [],
      "source": [
        "percapita_sheets = pd.read_csv(url_percapita)"
      ]
    },
    {
      "cell_type": "code",
      "execution_count": null,
      "metadata": {
        "colab": {
          "base_uri": "https://localhost:8080/",
          "height": 206
        },
        "id": "iC7OXnFxglbX",
        "outputId": "fa5dede1-8c00-425a-c30a-ccca0a43f7a5"
      },
      "outputs": [],
      "source": [
        "percapita_sheets.head()"
      ]
    },
    {
      "cell_type": "code",
      "execution_count": null,
      "metadata": {
        "id": "cOmFu3MTjRwh"
      },
      "outputs": [],
      "source": [
        "sheet_id = '1mRsV8OYjogOx_6neuNbboxvJaRpySydVN7mn6zBOn0I'\n",
        "sheet_name = 'fuentes'\n",
        "url_fuentes = f'https://docs.google.com/spreadsheets/d/{sheet_id}/gviz/tq?tqx=out:csv&sheet={sheet_name}'"
      ]
    },
    {
      "cell_type": "code",
      "execution_count": null,
      "metadata": {
        "id": "qn9PEJCLjRzX"
      },
      "outputs": [],
      "source": [
        "fuentes_sheets = pd.read_csv(url_fuentes)"
      ]
    },
    {
      "cell_type": "code",
      "execution_count": null,
      "metadata": {
        "colab": {
          "base_uri": "https://localhost:8080/",
          "height": 206
        },
        "id": "eoVt7i1LjR2Q",
        "outputId": "ef2b989c-7c4b-4664-9b08-ca971a7b87a7"
      },
      "outputs": [],
      "source": [
        "fuentes_sheets.head()"
      ]
    },
    {
      "cell_type": "markdown",
      "metadata": {
        "id": "ybfZ8pAn_vye"
      },
      "source": [
        "##**Aula 3 - Leyendo archivos JSON**"
      ]
    },
    {
      "cell_type": "markdown",
      "metadata": {
        "id": "XPpnxD8XArRt"
      },
      "source": [
        "###**Importando archivos JSON**"
      ]
    },
    {
      "cell_type": "code",
      "execution_count": null,
      "metadata": {
        "id": "wr7hB_PZ4xQo"
      },
      "outputs": [],
      "source": [
        "import pandas as pd"
      ]
    },
    {
      "cell_type": "code",
      "execution_count": null,
      "metadata": {
        "id": "LUrn_N9l0gSY"
      },
      "outputs": [],
      "source": [
        "datos_pacientes = pd.read_json('data/pacientes.json')"
      ]
    },
    {
      "cell_type": "code",
      "execution_count": null,
      "metadata": {
        "colab": {
          "base_uri": "https://localhost:8080/",
          "height": 444
        },
        "id": "W9MpvMCZ00aI",
        "outputId": "6d875759-7fb6-4388-cec3-89a24ddceac3"
      },
      "outputs": [],
      "source": [
        "datos_pacientes"
      ]
    },
    {
      "cell_type": "code",
      "execution_count": null,
      "metadata": {
        "id": "2tyD_sO9vVYL"
      },
      "outputs": [],
      "source": [
        "datos_pacientes_2 = pd.read_json('data/pacientes_2.json')"
      ]
    },
    {
      "cell_type": "code",
      "execution_count": null,
      "metadata": {
        "colab": {
          "base_uri": "https://localhost:8080/",
          "height": 143
        },
        "id": "ZLkYZSggvzpG",
        "outputId": "a20e45d9-74de-4dd1-bfe5-70c1fd5dc6d4"
      },
      "outputs": [],
      "source": [
        "datos_pacientes_2"
      ]
    },
    {
      "cell_type": "markdown",
      "metadata": {
        "id": "WjpaVghE-SDo"
      },
      "source": [
        "###**Normalizando archivos JSON**"
      ]
    },
    {
      "cell_type": "code",
      "execution_count": null,
      "metadata": {
        "id": "gPveOZ8LwGkc"
      },
      "outputs": [],
      "source": [
        "df_normalizado = pd.json_normalize(datos_pacientes_2['Pacientes'])"
      ]
    },
    {
      "cell_type": "code",
      "execution_count": null,
      "metadata": {
        "colab": {
          "base_uri": "https://localhost:8080/",
          "height": 181
        },
        "id": "zeM0xFdQwR4t",
        "outputId": "9fa6cb7e-2419-43df-d617-da067acb6118"
      },
      "outputs": [],
      "source": [
        "df_normalizado"
      ]
    },
    {
      "cell_type": "markdown",
      "metadata": {
        "id": "tBXifwRqAvpO"
      },
      "source": [
        "###**Escribiendo archivos JSON**"
      ]
    },
    {
      "cell_type": "code",
      "execution_count": null,
      "metadata": {
        "id": "GntGW36LuspV"
      },
      "outputs": [],
      "source": [
        "df_normalizado.to_json('data/historico_pacientes_norm.json')"
      ]
    },
    {
      "cell_type": "code",
      "execution_count": null,
      "metadata": {
        "colab": {
          "base_uri": "https://localhost:8080/",
          "height": 181
        },
        "id": "Mfix79PRusr5",
        "outputId": "0ca6856b-4c9b-4619-852b-cedd2c1ba1da"
      },
      "outputs": [],
      "source": [
        "pd.read_json('data/historico_pacientes_norm.json')"
      ]
    },
    {
      "cell_type": "markdown",
      "metadata": {
        "id": "jBnOJYukAySu"
      },
      "source": [
        "##**Aula 4 - Leyendo páginas en HTML e XML**"
      ]
    },
    {
      "cell_type": "markdown",
      "metadata": {
        "id": "JH9aNDdynrcW"
      },
      "source": [
        "###**Importando páginas web**"
      ]
    },
    {
      "cell_type": "code",
      "execution_count": null,
      "metadata": {
        "id": "Xc39_nDjE0yS"
      },
      "outputs": [],
      "source": [
        "import pandas as pd\n",
        "%pip install lxml\n",
        "%pip install html5lib\n",
        "%pip install beautifulsoup4"
      ]
    },
    {
      "cell_type": "code",
      "execution_count": null,
      "metadata": {
        "id": "VjlhKbpxE011"
      },
      "outputs": [],
      "source": [
        "datos_html = pd.read_html('data/peliculas_wikipedia.html')"
      ]
    },
    {
      "cell_type": "code",
      "execution_count": null,
      "metadata": {
        "colab": {
          "base_uri": "https://localhost:8080/"
        },
        "id": "F6A48HhdE073",
        "outputId": "d9c8609e-acd6-4e1e-98be-0a511d65e8e5"
      },
      "outputs": [],
      "source": [
        "datos_html"
      ]
    },
    {
      "cell_type": "code",
      "execution_count": null,
      "metadata": {
        "colab": {
          "base_uri": "https://localhost:8080/"
        },
        "id": "6ZDTv-44amY6",
        "outputId": "020af393-5ce1-4d59-83a0-36d40b7cf9b6"
      },
      "outputs": [],
      "source": [
        "type(datos_html)"
      ]
    },
    {
      "cell_type": "code",
      "execution_count": null,
      "metadata": {
        "colab": {
          "base_uri": "https://localhost:8080/"
        },
        "id": "ILX7nsiQKAPK",
        "outputId": "4c7521f8-2828-44f5-8cd8-f12dad0920f3"
      },
      "outputs": [],
      "source": [
        "len(datos_html)"
      ]
    },
    {
      "cell_type": "code",
      "execution_count": null,
      "metadata": {
        "id": "UusKJOTtgdMP"
      },
      "outputs": [],
      "source": [
        "top_peliculas = datos_html[1]"
      ]
    },
    {
      "cell_type": "code",
      "execution_count": null,
      "metadata": {
        "colab": {
          "base_uri": "https://localhost:8080/",
          "height": 424
        },
        "id": "G8CKMK1ZgpkK",
        "outputId": "8af2f908-0a2a-4849-b647-8d1398ff833e"
      },
      "outputs": [],
      "source": [
        "top_peliculas"
      ]
    },
    {
      "cell_type": "markdown",
      "metadata": {
        "id": "vFXwQcZsEToA"
      },
      "source": [
        "###**Escribiendo archivos HTML**"
      ]
    },
    {
      "cell_type": "code",
      "execution_count": null,
      "metadata": {
        "id": "3s_y8TgvXDid"
      },
      "outputs": [],
      "source": [
        "top_peliculas.to_html('data/top_peliculas.html')"
      ]
    },
    {
      "cell_type": "code",
      "execution_count": null,
      "metadata": {
        "colab": {
          "base_uri": "https://localhost:8080/"
        },
        "id": "meIW1BeoXDkv",
        "outputId": "61e31030-a13e-436f-8ed8-271ebda31696"
      },
      "outputs": [],
      "source": [
        "pd.read_html('data/top_peliculas.html')"
      ]
    },
    {
      "cell_type": "code",
      "execution_count": null,
      "metadata": {
        "id": "5Km4c4daguhT"
      },
      "outputs": [],
      "source": [
        "top_peliculas.to_csv('data/top_peliculas_1998', index=False)"
      ]
    },
    {
      "cell_type": "code",
      "execution_count": null,
      "metadata": {
        "colab": {
          "base_uri": "https://localhost:8080/",
          "height": 206
        },
        "id": "rRBolv1Mg45R",
        "outputId": "87ac6b45-4b2c-4cb1-b61e-938d049f8d28"
      },
      "outputs": [],
      "source": [
        "datos = pd.read_csv('data/top_peliculas_1998')\n",
        "datos.head()"
      ]
    },
    {
      "cell_type": "markdown",
      "metadata": {
        "id": "iig7pyP1cwIy"
      },
      "source": [
        "###**Leyendo/escribiendo archivos XML**\n"
      ]
    },
    {
      "cell_type": "code",
      "execution_count": null,
      "metadata": {
        "id": "lbPol0dcATS7"
      },
      "outputs": [],
      "source": [
        "import pandas as pd"
      ]
    },
    {
      "cell_type": "code",
      "execution_count": null,
      "metadata": {
        "id": "2XrTSisjATYO"
      },
      "outputs": [],
      "source": [
        "datos_imdb = pd.read_xml('data/imdb_top_1000.xml')"
      ]
    },
    {
      "cell_type": "code",
      "execution_count": null,
      "metadata": {
        "colab": {
          "base_uri": "https://localhost:8080/",
          "height": 441
        },
        "id": "jUeyuT3LAxQ9",
        "outputId": "16f685d4-d1dc-4d8e-8242-8e0cf171a32c"
      },
      "outputs": [],
      "source": [
        "datos_imdb.head(3)"
      ]
    },
    {
      "cell_type": "code",
      "execution_count": null,
      "metadata": {
        "id": "zbQL1Vg2lOgr"
      },
      "outputs": [],
      "source": [
        "datos_imdb.to_xml('data/peliculas_imdb.xml')"
      ]
    },
    {
      "cell_type": "markdown",
      "metadata": {
        "id": "VfDuxSL8vN1w"
      },
      "source": [
        "##**Aula 5 - Leyendo banco de datos**"
      ]
    },
    {
      "cell_type": "markdown",
      "metadata": {
        "id": "bBBgT7YZEICf"
      },
      "source": [
        "###**Creando un banco de datos local**"
      ]
    },
    {
      "cell_type": "code",
      "execution_count": null,
      "metadata": {
        "id": "cHdsOx1LMMqR"
      },
      "outputs": [],
      "source": [
        "%pip install sqlalchemy\n",
        "%pip install psycopg2\n",
        "%pip install mysql-connector-python\n",
        "%pip install pymysql\n",
        "import sqlalchemy"
      ]
    },
    {
      "cell_type": "code",
      "execution_count": null,
      "metadata": {
        "id": "XutYYZzfA36M"
      },
      "outputs": [],
      "source": [
        "from sqlalchemy import create_engine, MetaData, Table, inspect, text"
      ]
    },
    {
      "cell_type": "code",
      "execution_count": null,
      "metadata": {
        "id": "KNFaW2DOA4NF"
      },
      "outputs": [],
      "source": [
        "engine = create_engine('sqlite:///:memory:')"
      ]
    },
    {
      "cell_type": "markdown",
      "metadata": {
        "id": "RAeI2dtG6Dpy"
      },
      "source": [
        "###**Escribiendo en un banco de datos**"
      ]
    },
    {
      "cell_type": "code",
      "execution_count": null,
      "metadata": {
        "id": "wzAiDflqbBfi"
      },
      "outputs": [],
      "source": [
        "import pandas as pd"
      ]
    },
    {
      "cell_type": "code",
      "execution_count": null,
      "metadata": {
        "id": "vx_KTviWbBfj"
      },
      "outputs": [],
      "source": [
        "archivo = 'data/clientes_banco.csv'"
      ]
    },
    {
      "cell_type": "code",
      "execution_count": null,
      "metadata": {
        "id": "nvtBpM6bbBfj"
      },
      "outputs": [],
      "source": [
        "datos = pd.read_csv(archivo)"
      ]
    },
    {
      "cell_type": "code",
      "execution_count": null,
      "metadata": {
        "colab": {
          "base_uri": "https://localhost:8080/",
          "height": 313
        },
        "id": "qm4sgPTybBfj",
        "outputId": "8578b438-456c-481a-e59a-a88f96f530d2"
      },
      "outputs": [],
      "source": [
        "datos.head()"
      ]
    },
    {
      "cell_type": "code",
      "execution_count": null,
      "metadata": {
        "colab": {
          "base_uri": "https://localhost:8080/"
        },
        "id": "ukoxfjp5BSpI",
        "outputId": "a9f84037-01d5-44ad-ad50-20a57f73f830"
      },
      "outputs": [],
      "source": [
        "datos.to_sql('clientes', engine, index=False)"
      ]
    },
    {
      "cell_type": "code",
      "execution_count": null,
      "metadata": {
        "id": "zjW1Yk6CBpvz"
      },
      "outputs": [],
      "source": [
        "inspector = inspect(engine)"
      ]
    },
    {
      "cell_type": "code",
      "execution_count": null,
      "metadata": {
        "colab": {
          "base_uri": "https://localhost:8080/"
        },
        "id": "LY70XAU4B0Ha",
        "outputId": "c82b93b5-ff4c-419c-e8ba-36853be07a46"
      },
      "outputs": [],
      "source": [
        "print(inspector.get_table_names())"
      ]
    },
    {
      "cell_type": "markdown",
      "metadata": {
        "id": "RQcn3pljaY0U"
      },
      "source": [
        "###**Leyendo una consulta SQL**"
      ]
    },
    {
      "cell_type": "code",
      "execution_count": null,
      "metadata": {
        "id": "SZQQKXmZB685"
      },
      "outputs": [],
      "source": [
        "query = 'SELECT * FROM clientes WHERE Categoria_de_renta = \"Empleado\"'"
      ]
    },
    {
      "cell_type": "code",
      "execution_count": null,
      "metadata": {
        "id": "2YIytoYXCSei"
      },
      "outputs": [],
      "source": [
        "empleados = pd.read_sql(sql=text(query), con=engine.connect())"
      ]
    },
    {
      "cell_type": "code",
      "execution_count": null,
      "metadata": {
        "colab": {
          "base_uri": "https://localhost:8080/",
          "height": 617
        },
        "id": "Y4Py8cULCVqO",
        "outputId": "75cdffae-255f-4411-e0dd-257e75bde326"
      },
      "outputs": [],
      "source": [
        "empleados"
      ]
    },
    {
      "cell_type": "code",
      "execution_count": null,
      "metadata": {
        "colab": {
          "base_uri": "https://localhost:8080/"
        },
        "id": "X5VvRg3GDCfl",
        "outputId": "16e6115a-52bd-4768-e99f-c4854f90e110"
      },
      "outputs": [],
      "source": [
        "empleados.to_sql('empleados', con=engine.connect(), index=False)"
      ]
    },
    {
      "cell_type": "code",
      "execution_count": null,
      "metadata": {
        "colab": {
          "base_uri": "https://localhost:8080/",
          "height": 617
        },
        "id": "2bnIC1KxvkKN",
        "outputId": "e42b6350-28c2-448f-9c2d-43081a3036fc"
      },
      "outputs": [],
      "source": [
        "pd.read_sql_table('empleados', con=engine.connect())"
      ]
    },
    {
      "cell_type": "code",
      "execution_count": null,
      "metadata": {
        "colab": {
          "base_uri": "https://localhost:8080/",
          "height": 424
        },
        "id": "lmUQ5-0lDX3-",
        "outputId": "58e8072c-52e6-4dc4-dde2-8370d25c35db"
      },
      "outputs": [],
      "source": [
        "pd.read_sql_table('empleados', con=engine.connect(), columns=['ID_Cliente', 'Grado_estudio','Rendimiento_anual'])"
      ]
    },
    {
      "cell_type": "markdown",
      "metadata": {
        "id": "qDDwJ6jj8dF5"
      },
      "source": [
        "###**Actualizando un banco de datos**"
      ]
    },
    {
      "cell_type": "code",
      "execution_count": null,
      "metadata": {
        "id": "XLU1mbNGmPz3"
      },
      "outputs": [],
      "source": [
        "query = 'SELECT * FROM clientes'"
      ]
    },
    {
      "cell_type": "code",
      "execution_count": null,
      "metadata": {
        "colab": {
          "base_uri": "https://localhost:8080/",
          "height": 600
        },
        "id": "byN7xG7AmUXe",
        "outputId": "7faaf5e8-a49f-4840-adce-8b090132c635"
      },
      "outputs": [],
      "source": [
        "pd.read_sql(sql=text(query), con=engine.connect())"
      ]
    },
    {
      "cell_type": "code",
      "execution_count": null,
      "metadata": {
        "colab": {
          "base_uri": "https://localhost:8080/"
        },
        "id": "I5BLC6asmqVT",
        "outputId": "8022e483-6a88-404f-9e14-1e9cc78065d2"
      },
      "outputs": [],
      "source": [
        "#Borrando registros\n",
        "from sqlalchemy.exc import SQLAlchemyError\n",
        "query = \"DELETE FROM clientes WHERE ID_Cliente=5008804\"\n",
        "try:\n",
        "  r_set=engine.connect().execute(text(query))\n",
        "except SQLAlchemyError as e:\n",
        "  print(e)\n",
        "else:\n",
        "  print(\"#Registros borrados: \",r_set.rowcount)"
      ]
    },
    {
      "cell_type": "code",
      "execution_count": null,
      "metadata": {
        "colab": {
          "base_uri": "https://localhost:8080/",
          "height": 600
        },
        "id": "iDDl294nficp",
        "outputId": "b6cbcb0d-f1a6-4593-ff87-1b67a5a2f40d"
      },
      "outputs": [],
      "source": [
        "pd.read_sql_table('clientes', con=engine.connect())"
      ]
    },
    {
      "cell_type": "code",
      "execution_count": null,
      "metadata": {
        "colab": {
          "base_uri": "https://localhost:8080/"
        },
        "id": "489fm2kr8v-z",
        "outputId": "85b9786a-fbfe-4689-ca1a-28b3ad71f3a6"
      },
      "outputs": [],
      "source": [
        "#Actualizando registros\n",
        "query = 'UPDATE clientes SET Grado_estudio=\"Nivel superior\" WHERE ID_Cliente=5008808'\n",
        "try:\n",
        "  r_set=engine.connect().execute(text(query))\n",
        "except SQLAlchemyError as e:\n",
        "  print(e)\n",
        "else:\n",
        "  print(\"#Registros actualizados: \",r_set.rowcount)"
      ]
    },
    {
      "cell_type": "code",
      "execution_count": null,
      "metadata": {
        "colab": {
          "base_uri": "https://localhost:8080/",
          "height": 600
        },
        "id": "GPn3nuPS8xnf",
        "outputId": "c8e1d578-78cc-45f4-ab12-6d0b19278e40"
      },
      "outputs": [],
      "source": [
        "pd.read_sql_table('clientes', con=engine.connect())"
      ]
    },
    {
      "cell_type": "code",
      "execution_count": null,
      "metadata": {
        "colab": {
          "base_uri": "https://localhost:8080/"
        },
        "id": "0njv9vItpU7N",
        "outputId": "26a66f2c-deb1-41e8-bac9-57c2ab7c7a12"
      },
      "outputs": [],
      "source": [
        "inspector = inspect(engine)\n",
        "print(inspector.get_table_names())"
      ]
    }
  ],
  "metadata": {
    "colab": {
      "collapsed_sections": [
        "kpSFmUqkR38M",
        "TtY5qySo_tO-",
        "ybfZ8pAn_vye",
        "jBnOJYukAySu",
        "VfDuxSL8vN1w"
      ],
      "provenance": []
    },
    "kernelspec": {
      "display_name": ".venv",
      "language": "python",
      "name": "python3"
    },
    "language_info": {
      "codemirror_mode": {
        "name": "ipython",
        "version": 3
      },
      "file_extension": ".py",
      "mimetype": "text/x-python",
      "name": "python",
      "nbconvert_exporter": "python",
      "pygments_lexer": "ipython3",
      "version": "3.13.3"
    }
  },
  "nbformat": 4,
  "nbformat_minor": 0
}
