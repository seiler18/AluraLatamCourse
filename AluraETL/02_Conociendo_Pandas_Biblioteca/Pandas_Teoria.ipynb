{
 "cells": [
  {
   "cell_type": "markdown",
   "id": "e7618ab3",
   "metadata": {},
   "source": [
    "## **Importando datos**"
   ]
  },
  {
   "cell_type": "code",
   "execution_count": null,
   "id": "d6a160a9",
   "metadata": {},
   "outputs": [],
   "source": [
    "import pandas as pd\n",
    "\n",
    "url ='https://gist.githubusercontent.com/ahcamachod/a572cfcc2527046db93101f88011b26e/raw/ffb13f45a79d31223e645611a119397dd127ee3c/alquiler.csv'\n",
    "\n",
    "# Se puede usar el método read_csv() para leer archivos CSV desde una URL\n",
    "# y cargar los datos en un DataFrame de pandas.\n",
    "# El parámetro sep=';' indica que el separador de los valores en el archivo CSV es un punto y coma.\n",
    "# El DataFrame resultante contendrá los datos del archivo CSV.\n",
    "# El DataFrame se puede manipular y analizar utilizando las funciones y métodos de pandas.\n",
    "pd.read_csv(url, sep=';')\n",
    "\n",
    "datos = pd.read_csv(url, sep=';')\n",
    "datos.head(10) ## Muestra las primeras 10 filas del DataFrame\n",
    "datos.tail(10) ## Muestra las últimas 10 filas del DataFrame\n",
    "datos.info() ## Muestra información sobre el DataFrame, incluyendo el número de filas y columnas, tipos de datos y valores nulos.\n",
    "datos.describe() ## Muestra estadísticas descriptivas de las columnas numéricas del DataFrame.\n",
    "datos.sample(10) ## Muestra 10 filas aleatorias del DataFrame.\n",
    "\n",
    "#read_ ##Existen diferentes metodos de read_ csv,excel, json, html, sql, clipboard, etc.\n"
   ]
  },
  {
   "cell_type": "markdown",
   "id": "8a2fd88f",
   "metadata": {},
   "source": [
    "## **Exploración inicial - Caracteristica de los datos**"
   ]
  },
  {
   "cell_type": "code",
   "execution_count": null,
   "id": "4d19e47d",
   "metadata": {},
   "outputs": [],
   "source": [
    "datos.sample(10) ## Muestra 10 filas aleatorias del DataFrame.\n",
    "\n",
    "datos.index ## Muestra el índice del DataFrame.\n",
    "datos.dtypes ## Muestra los tipos de datos de cada columna del DataFrame.\n",
    "datos.shape ## Muestra la forma del DataFrame, es decir, el número de filas y columnas.\n",
    "datos.columns ## Muestra los nombres de las columnas del DataFrame.\n"
   ]
  },
  {
   "cell_type": "code",
   "execution_count": null,
   "id": "660fb34a",
   "metadata": {},
   "outputs": [],
   "source": [
    "datos['Tipo']"
   ]
  },
  {
   "cell_type": "code",
   "execution_count": null,
   "id": "8d07f52d",
   "metadata": {},
   "outputs": [],
   "source": [
    "datos[['Tipo', 'Colonia']].head(10) ## Muestra las primeras 10 filas de las columnas 'Tipo' y 'Colonia'."
   ]
  },
  {
   "cell_type": "markdown",
   "id": "fbccf5b6",
   "metadata": {},
   "source": [
    "## Practicando visualización Pandas con ejercicio de Alumnos :"
   ]
  },
  {
   "cell_type": "code",
   "execution_count": null,
   "id": "2dfb6911",
   "metadata": {},
   "outputs": [],
   "source": [
    "import pandas as pd\n",
    "\n",
    "url = 'https://gist.githubusercontent.com/ahcamachod/807a2c1cf6c19108b2b701ea1791ab45/raw/fb84f8b2d8917a89de26679eccdbc8f9c1d2e933/alumnos.csv'\n",
    "\n",
    "#Importa el archivo alumnos.csv y almacena su contenido en un DataFrame de Pandas.\n",
    "# Visualiza las primeras 7 filas del DataFrame y las últimas 5.\n",
    "# Verifica la cantidad de filas y columnas en este DataFrame.\n",
    "# Explora las columnas del DataFrame y analiza los tipos de datos presentes en cada columna.'''\n",
    "\n",
    "# Importa el archivo CSV y almacena su contenido en un DataFrame de Pandas\n",
    "alumnos = pd.read_csv(url)"
   ]
  },
  {
   "cell_type": "code",
   "execution_count": null,
   "id": "3edc6392",
   "metadata": {},
   "outputs": [],
   "source": [
    "# Visualiza las primeras 7 filas del DataFrame\n",
    "alumnos.head(7)"
   ]
  },
  {
   "cell_type": "code",
   "execution_count": null,
   "id": "52995052",
   "metadata": {},
   "outputs": [],
   "source": [
    "# Visualiza las últimas 5 filas del DataFrame\n",
    "alumnos.tail(5)"
   ]
  },
  {
   "cell_type": "code",
   "execution_count": null,
   "id": "2126f576",
   "metadata": {},
   "outputs": [],
   "source": [
    "# Verifica la cantidad de filas y columnas en el DataFrame\n",
    "alumnos.shape"
   ]
  },
  {
   "cell_type": "code",
   "execution_count": null,
   "id": "2ee3916e",
   "metadata": {},
   "outputs": [],
   "source": [
    "# Explora las columnas del DataFrame\n",
    "alumnos.columns"
   ]
  },
  {
   "cell_type": "code",
   "execution_count": null,
   "id": "0849de95",
   "metadata": {},
   "outputs": [],
   "source": [
    "#\n",
    "alumnos['Nombre']"
   ]
  },
  {
   "cell_type": "code",
   "execution_count": null,
   "id": "d7e876f3",
   "metadata": {},
   "outputs": [],
   "source": [
    "alumnos[['Edad','Nota']]"
   ]
  },
  {
   "cell_type": "code",
   "execution_count": null,
   "id": "7f3b25b5",
   "metadata": {},
   "outputs": [],
   "source": [
    "alumnos.dtypes ## Muestra los tipos de datos de cada columna del DataFrame."
   ]
  }
 ],
 "metadata": {
  "kernelspec": {
   "display_name": ".venv",
   "language": "python",
   "name": "python3"
  },
  "language_info": {
   "codemirror_mode": {
    "name": "ipython",
    "version": 3
   },
   "file_extension": ".py",
   "mimetype": "text/x-python",
   "name": "python",
   "nbconvert_exporter": "python",
   "pygments_lexer": "ipython3",
   "version": "3.13.3"
  }
 },
 "nbformat": 4,
 "nbformat_minor": 5
}
