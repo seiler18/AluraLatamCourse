{
  "cells": [
    {
      "cell_type": "markdown",
      "metadata": {
        "id": "QnFeTKqLw5tK"
      },
      "source": [
        "#**PROBLEMA DE NEGOCIO**\n",
        "\n",
        "\n",
        "---\n",
        "\n",
        "\n"
      ]
    },
    {
      "cell_type": "markdown",
      "metadata": {
        "id": "2fLIqeTzw_Zu"
      },
      "source": [
        "Se trata de un algoritmo capaz de analizar las características de una propiedad -como comodidades, tamaño, ocupación del espacio en un período determinado- y sugerir al anfitrión un precio a cobrar por tarifas diarias que garantice ganancias en momentos de alta demanda."
      ]
    },
    {
      "cell_type": "markdown",
      "metadata": {
        "id": "nDd527CTqfVU"
      },
      "source": [
        "#**1. Entendiendo el Problema**\n",
        "\n",
        "\n",
        "---\n",
        "\n",
        "\n"
      ]
    },
    {
      "cell_type": "code",
      "execution_count": 37,
      "metadata": {
        "id": "Ruvs1vv2FnQ9"
      },
      "outputs": [],
      "source": [
        "import pandas as pd"
      ]
    },
    {
      "cell_type": "code",
      "execution_count": 38,
      "metadata": {
        "colab": {
          "base_uri": "https://localhost:8080/",
          "height": 206
        },
        "id": "vnlS04aVF_tF",
        "outputId": "e3b994a2-0f4e-4e4f-df92-800e00e103b3"
      },
      "outputs": [
        {
          "data": {
            "text/html": [
              "<div>\n",
              "<style scoped>\n",
              "    .dataframe tbody tr th:only-of-type {\n",
              "        vertical-align: middle;\n",
              "    }\n",
              "\n",
              "    .dataframe tbody tr th {\n",
              "        vertical-align: top;\n",
              "    }\n",
              "\n",
              "    .dataframe thead th {\n",
              "        text-align: right;\n",
              "    }\n",
              "</style>\n",
              "<table border=\"1\" class=\"dataframe\">\n",
              "  <thead>\n",
              "    <tr style=\"text-align: right;\">\n",
              "      <th></th>\n",
              "      <th>info_inmuebles</th>\n",
              "    </tr>\n",
              "  </thead>\n",
              "  <tbody>\n",
              "    <tr>\n",
              "      <th>0</th>\n",
              "      <td>{'evaluacion_general': '10.0', 'experiencia_lo...</td>\n",
              "    </tr>\n",
              "    <tr>\n",
              "      <th>1</th>\n",
              "      <td>{'evaluacion_general': '10.0', 'experiencia_lo...</td>\n",
              "    </tr>\n",
              "    <tr>\n",
              "      <th>2</th>\n",
              "      <td>{'evaluacion_general': '10.0', 'experiencia_lo...</td>\n",
              "    </tr>\n",
              "    <tr>\n",
              "      <th>3</th>\n",
              "      <td>{'evaluacion_general': '10.0', 'experiencia_lo...</td>\n",
              "    </tr>\n",
              "    <tr>\n",
              "      <th>4</th>\n",
              "      <td>{'evaluacion_general': '10.0', 'experiencia_lo...</td>\n",
              "    </tr>\n",
              "  </tbody>\n",
              "</table>\n",
              "</div>"
            ],
            "text/plain": [
              "                                      info_inmuebles\n",
              "0  {'evaluacion_general': '10.0', 'experiencia_lo...\n",
              "1  {'evaluacion_general': '10.0', 'experiencia_lo...\n",
              "2  {'evaluacion_general': '10.0', 'experiencia_lo...\n",
              "3  {'evaluacion_general': '10.0', 'experiencia_lo...\n",
              "4  {'evaluacion_general': '10.0', 'experiencia_lo..."
            ]
          },
          "execution_count": 38,
          "metadata": {},
          "output_type": "execute_result"
        }
      ],
      "source": [
        "datos = pd.read_json('./data/datos_hosting.json')\n",
        "datos.head()"
      ]
    },
    {
      "cell_type": "code",
      "execution_count": 39,
      "metadata": {
        "colab": {
          "base_uri": "https://localhost:8080/",
          "height": 556
        },
        "id": "95UtFE_TK8Dv",
        "outputId": "f8ae6a12-a374-4923-f8e7-a59bdb0ecf55"
      },
      "outputs": [
        {
          "data": {
            "text/html": [
              "<div>\n",
              "<style scoped>\n",
              "    .dataframe tbody tr th:only-of-type {\n",
              "        vertical-align: middle;\n",
              "    }\n",
              "\n",
              "    .dataframe tbody tr th {\n",
              "        vertical-align: top;\n",
              "    }\n",
              "\n",
              "    .dataframe thead th {\n",
              "        text-align: right;\n",
              "    }\n",
              "</style>\n",
              "<table border=\"1\" class=\"dataframe\">\n",
              "  <thead>\n",
              "    <tr style=\"text-align: right;\">\n",
              "      <th></th>\n",
              "      <th>evaluacion_general</th>\n",
              "      <th>experiencia_local</th>\n",
              "      <th>max_hospedes</th>\n",
              "      <th>descripcion_local</th>\n",
              "      <th>descripcion_vecindad</th>\n",
              "      <th>cantidad_baños</th>\n",
              "      <th>cantidad_cuartos</th>\n",
              "      <th>cantidad_camas</th>\n",
              "      <th>modelo_cama</th>\n",
              "      <th>comodidades</th>\n",
              "      <th>cuota_deposito</th>\n",
              "      <th>cuota_limpieza</th>\n",
              "      <th>precio</th>\n",
              "    </tr>\n",
              "  </thead>\n",
              "  <tbody>\n",
              "    <tr>\n",
              "      <th>0</th>\n",
              "      <td>10.0</td>\n",
              "      <td>--</td>\n",
              "      <td>1</td>\n",
              "      <td>[This clean and comfortable one bedroom sits r...</td>\n",
              "      <td>[Lower Queen Anne is near the Seattle Center (...</td>\n",
              "      <td>[1, 1, 1, 1, 1, 1, 1, 1, 1, 1, 1, 1, 1, 1, 1, ...</td>\n",
              "      <td>[1, 1, 1, 1, 1, 1, 1, 1, 1, 1, 1, 1, 1, 1, 1, ...</td>\n",
              "      <td>[1, 1, 1, 1, 1, 1, 1, 1, 1, 1, 1, 1, 1, 1, 1, ...</td>\n",
              "      <td>[Real Bed, Futon, Futon, Pull-out Sofa, Real B...</td>\n",
              "      <td>[{Internet,\"Wireless Internet\",Kitchen,\"Free P...</td>\n",
              "      <td>[$0, $0, $0, $0, $0, $350.00, $350.00, $350.00...</td>\n",
              "      <td>[$0, $0, $0, $20.00, $15.00, $28.00, $35.00, $...</td>\n",
              "      <td>[$110.00, $45.00, $55.00, $52.00, $85.00, $50....</td>\n",
              "    </tr>\n",
              "    <tr>\n",
              "      <th>1</th>\n",
              "      <td>10.0</td>\n",
              "      <td>--</td>\n",
              "      <td>10</td>\n",
              "      <td>[Welcome to the heart of the 'Ballard Brewery ...</td>\n",
              "      <td>[--, Capital Hill is the heart of Seattle, bor...</td>\n",
              "      <td>[2, 3, 2, 3, 3, 3, 2, 1, 2, 2, 2]</td>\n",
              "      <td>[3, 4, 2, 3, 3, 3, 3, 3, 3, 4, 3]</td>\n",
              "      <td>[5, 6, 8, 3, 3, 5, 4, 5, 6, 7, 4]</td>\n",
              "      <td>[Real Bed, Real Bed, Real Bed, Real Bed, Real ...</td>\n",
              "      <td>[{TV,Internet,\"Wireless Internet\",Kitchen,\"Fre...</td>\n",
              "      <td>[$500.00, $300.00, $0, $300.00, $300.00, $360....</td>\n",
              "      <td>[$125.00, $100.00, $85.00, $110.00, $110.00, $...</td>\n",
              "      <td>[$350.00, $300.00, $425.00, $300.00, $285.00, ...</td>\n",
              "    </tr>\n",
              "    <tr>\n",
              "      <th>2</th>\n",
              "      <td>10.0</td>\n",
              "      <td>--</td>\n",
              "      <td>11</td>\n",
              "      <td>[New modern house built in 2013.  Spectacular ...</td>\n",
              "      <td>[Upper Queen Anne is a charming neighborhood f...</td>\n",
              "      <td>[4]</td>\n",
              "      <td>[5]</td>\n",
              "      <td>[7]</td>\n",
              "      <td>[Real Bed]</td>\n",
              "      <td>[{TV,\"Cable TV\",Internet,\"Wireless Internet\",\"...</td>\n",
              "      <td>[$1,000.00]</td>\n",
              "      <td>[$300.00]</td>\n",
              "      <td>[$975.00]</td>\n",
              "    </tr>\n",
              "    <tr>\n",
              "      <th>3</th>\n",
              "      <td>10.0</td>\n",
              "      <td>--</td>\n",
              "      <td>12</td>\n",
              "      <td>[Our NW style home is 3200+ sq ft with 3 level...</td>\n",
              "      <td>[The Views from our top floor!  Wallingford ha...</td>\n",
              "      <td>[3, 3, 3, 3, 3, 3, 3, 3]</td>\n",
              "      <td>[6, 6, 5, 5, 5, 5, 4, 4]</td>\n",
              "      <td>[6, 6, 7, 8, 7, 7, 6, 6]</td>\n",
              "      <td>[Real Bed, Real Bed, Real Bed, Real Bed, Real ...</td>\n",
              "      <td>[{Internet,\"Wireless Internet\",Kitchen,\"Free P...</td>\n",
              "      <td>[$500.00, $500.00, $500.00, $500.00, $500.00, ...</td>\n",
              "      <td>[$225.00, $300.00, $250.00, $250.00, $250.00, ...</td>\n",
              "      <td>[$490.00, $550.00, $350.00, $350.00, $350.00, ...</td>\n",
              "    </tr>\n",
              "    <tr>\n",
              "      <th>4</th>\n",
              "      <td>10.0</td>\n",
              "      <td>--</td>\n",
              "      <td>14</td>\n",
              "      <td>[Perfect for groups. 2 bedrooms, full bathroom...</td>\n",
              "      <td>[Safeway grocery store within walking distance...</td>\n",
              "      <td>[2, 3]</td>\n",
              "      <td>[2, 6]</td>\n",
              "      <td>[3, 9]</td>\n",
              "      <td>[Real Bed, Real Bed]</td>\n",
              "      <td>[{TV,Internet,\"Wireless Internet\",Kitchen,\"Fre...</td>\n",
              "      <td>[$300.00, $2,000.00]</td>\n",
              "      <td>[$40.00, $150.00]</td>\n",
              "      <td>[$200.00, $545.00]</td>\n",
              "    </tr>\n",
              "  </tbody>\n",
              "</table>\n",
              "</div>"
            ],
            "text/plain": [
              "  evaluacion_general experiencia_local max_hospedes  \\\n",
              "0               10.0                --            1   \n",
              "1               10.0                --           10   \n",
              "2               10.0                --           11   \n",
              "3               10.0                --           12   \n",
              "4               10.0                --           14   \n",
              "\n",
              "                                   descripcion_local  \\\n",
              "0  [This clean and comfortable one bedroom sits r...   \n",
              "1  [Welcome to the heart of the 'Ballard Brewery ...   \n",
              "2  [New modern house built in 2013.  Spectacular ...   \n",
              "3  [Our NW style home is 3200+ sq ft with 3 level...   \n",
              "4  [Perfect for groups. 2 bedrooms, full bathroom...   \n",
              "\n",
              "                                descripcion_vecindad  \\\n",
              "0  [Lower Queen Anne is near the Seattle Center (...   \n",
              "1  [--, Capital Hill is the heart of Seattle, bor...   \n",
              "2  [Upper Queen Anne is a charming neighborhood f...   \n",
              "3  [The Views from our top floor!  Wallingford ha...   \n",
              "4  [Safeway grocery store within walking distance...   \n",
              "\n",
              "                                      cantidad_baños  \\\n",
              "0  [1, 1, 1, 1, 1, 1, 1, 1, 1, 1, 1, 1, 1, 1, 1, ...   \n",
              "1                  [2, 3, 2, 3, 3, 3, 2, 1, 2, 2, 2]   \n",
              "2                                                [4]   \n",
              "3                           [3, 3, 3, 3, 3, 3, 3, 3]   \n",
              "4                                             [2, 3]   \n",
              "\n",
              "                                    cantidad_cuartos  \\\n",
              "0  [1, 1, 1, 1, 1, 1, 1, 1, 1, 1, 1, 1, 1, 1, 1, ...   \n",
              "1                  [3, 4, 2, 3, 3, 3, 3, 3, 3, 4, 3]   \n",
              "2                                                [5]   \n",
              "3                           [6, 6, 5, 5, 5, 5, 4, 4]   \n",
              "4                                             [2, 6]   \n",
              "\n",
              "                                      cantidad_camas  \\\n",
              "0  [1, 1, 1, 1, 1, 1, 1, 1, 1, 1, 1, 1, 1, 1, 1, ...   \n",
              "1                  [5, 6, 8, 3, 3, 5, 4, 5, 6, 7, 4]   \n",
              "2                                                [7]   \n",
              "3                           [6, 6, 7, 8, 7, 7, 6, 6]   \n",
              "4                                             [3, 9]   \n",
              "\n",
              "                                         modelo_cama  \\\n",
              "0  [Real Bed, Futon, Futon, Pull-out Sofa, Real B...   \n",
              "1  [Real Bed, Real Bed, Real Bed, Real Bed, Real ...   \n",
              "2                                         [Real Bed]   \n",
              "3  [Real Bed, Real Bed, Real Bed, Real Bed, Real ...   \n",
              "4                               [Real Bed, Real Bed]   \n",
              "\n",
              "                                         comodidades  \\\n",
              "0  [{Internet,\"Wireless Internet\",Kitchen,\"Free P...   \n",
              "1  [{TV,Internet,\"Wireless Internet\",Kitchen,\"Fre...   \n",
              "2  [{TV,\"Cable TV\",Internet,\"Wireless Internet\",\"...   \n",
              "3  [{Internet,\"Wireless Internet\",Kitchen,\"Free P...   \n",
              "4  [{TV,Internet,\"Wireless Internet\",Kitchen,\"Fre...   \n",
              "\n",
              "                                      cuota_deposito  \\\n",
              "0  [$0, $0, $0, $0, $0, $350.00, $350.00, $350.00...   \n",
              "1  [$500.00, $300.00, $0, $300.00, $300.00, $360....   \n",
              "2                                        [$1,000.00]   \n",
              "3  [$500.00, $500.00, $500.00, $500.00, $500.00, ...   \n",
              "4                               [$300.00, $2,000.00]   \n",
              "\n",
              "                                      cuota_limpieza  \\\n",
              "0  [$0, $0, $0, $20.00, $15.00, $28.00, $35.00, $...   \n",
              "1  [$125.00, $100.00, $85.00, $110.00, $110.00, $...   \n",
              "2                                          [$300.00]   \n",
              "3  [$225.00, $300.00, $250.00, $250.00, $250.00, ...   \n",
              "4                                  [$40.00, $150.00]   \n",
              "\n",
              "                                              precio  \n",
              "0  [$110.00, $45.00, $55.00, $52.00, $85.00, $50....  \n",
              "1  [$350.00, $300.00, $425.00, $300.00, $285.00, ...  \n",
              "2                                          [$975.00]  \n",
              "3  [$490.00, $550.00, $350.00, $350.00, $350.00, ...  \n",
              "4                                 [$200.00, $545.00]  "
            ]
          },
          "execution_count": 39,
          "metadata": {},
          "output_type": "execute_result"
        }
      ],
      "source": [
        "datos = pd.json_normalize(datos['info_inmuebles'])\n",
        "datos.head()"
      ]
    },
    {
      "cell_type": "markdown",
      "metadata": {
        "id": "x34W-kzrq5aR"
      },
      "source": [
        "#**2. Datos numéricos**\n",
        "\n",
        "\n",
        "---\n",
        "\n",
        "\n"
      ]
    },
    {
      "cell_type": "code",
      "execution_count": 40,
      "metadata": {
        "colab": {
          "base_uri": "https://localhost:8080/"
        },
        "id": "pT33tpUqnqEQ",
        "outputId": "f49e115a-caf4-464b-82bf-ffeb94e9c89c"
      },
      "outputs": [
        {
          "data": {
            "text/plain": [
              "['evaluacion_general',\n",
              " 'experiencia_local',\n",
              " 'max_hospedes',\n",
              " 'descripcion_local',\n",
              " 'descripcion_vecindad',\n",
              " 'cantidad_baños',\n",
              " 'cantidad_cuartos',\n",
              " 'cantidad_camas',\n",
              " 'modelo_cama',\n",
              " 'comodidades',\n",
              " 'cuota_deposito',\n",
              " 'cuota_limpieza',\n",
              " 'precio']"
            ]
          },
          "execution_count": 40,
          "metadata": {},
          "output_type": "execute_result"
        }
      ],
      "source": [
        "columnas = list(datos.columns)\n",
        "columnas"
      ]
    },
    {
      "cell_type": "code",
      "execution_count": 41,
      "metadata": {
        "colab": {
          "base_uri": "https://localhost:8080/",
          "height": 791
        },
        "id": "8JC86S1InqMA",
        "outputId": "6d9bd57d-a54a-4bd0-9352-a2a5d0a8ef3d"
      },
      "outputs": [
        {
          "data": {
            "text/html": [
              "<div>\n",
              "<style scoped>\n",
              "    .dataframe tbody tr th:only-of-type {\n",
              "        vertical-align: middle;\n",
              "    }\n",
              "\n",
              "    .dataframe tbody tr th {\n",
              "        vertical-align: top;\n",
              "    }\n",
              "\n",
              "    .dataframe thead th {\n",
              "        text-align: right;\n",
              "    }\n",
              "</style>\n",
              "<table border=\"1\" class=\"dataframe\">\n",
              "  <thead>\n",
              "    <tr style=\"text-align: right;\">\n",
              "      <th></th>\n",
              "      <th>evaluacion_general</th>\n",
              "      <th>experiencia_local</th>\n",
              "      <th>max_hospedes</th>\n",
              "      <th>descripcion_local</th>\n",
              "      <th>descripcion_vecindad</th>\n",
              "      <th>cantidad_baños</th>\n",
              "      <th>cantidad_cuartos</th>\n",
              "      <th>cantidad_camas</th>\n",
              "      <th>modelo_cama</th>\n",
              "      <th>comodidades</th>\n",
              "      <th>cuota_deposito</th>\n",
              "      <th>cuota_limpieza</th>\n",
              "      <th>precio</th>\n",
              "    </tr>\n",
              "  </thead>\n",
              "  <tbody>\n",
              "    <tr>\n",
              "      <th>0</th>\n",
              "      <td>10.0</td>\n",
              "      <td>--</td>\n",
              "      <td>1</td>\n",
              "      <td>This clean and comfortable one bedroom sits ri...</td>\n",
              "      <td>Lower Queen Anne is near the Seattle Center (s...</td>\n",
              "      <td>1</td>\n",
              "      <td>1</td>\n",
              "      <td>1</td>\n",
              "      <td>Real Bed</td>\n",
              "      <td>{Internet,\"Wireless Internet\",Kitchen,\"Free Pa...</td>\n",
              "      <td>$0</td>\n",
              "      <td>$0</td>\n",
              "      <td>$110.00</td>\n",
              "    </tr>\n",
              "    <tr>\n",
              "      <th>0</th>\n",
              "      <td>10.0</td>\n",
              "      <td>--</td>\n",
              "      <td>1</td>\n",
              "      <td>Our century old Upper Queen Anne house is loca...</td>\n",
              "      <td>Upper Queen Anne is a really pleasant, unique ...</td>\n",
              "      <td>1</td>\n",
              "      <td>1</td>\n",
              "      <td>1</td>\n",
              "      <td>Futon</td>\n",
              "      <td>{TV,Internet,\"Wireless Internet\",Kitchen,\"Free...</td>\n",
              "      <td>$0</td>\n",
              "      <td>$0</td>\n",
              "      <td>$45.00</td>\n",
              "    </tr>\n",
              "    <tr>\n",
              "      <th>0</th>\n",
              "      <td>10.0</td>\n",
              "      <td>--</td>\n",
              "      <td>1</td>\n",
              "      <td>Cozy room in two-bedroom apartment along the l...</td>\n",
              "      <td>The convenience of being in Seattle but on the...</td>\n",
              "      <td>1</td>\n",
              "      <td>1</td>\n",
              "      <td>1</td>\n",
              "      <td>Futon</td>\n",
              "      <td>{TV,Internet,\"Wireless Internet\",Kitchen,\"Free...</td>\n",
              "      <td>$0</td>\n",
              "      <td>$0</td>\n",
              "      <td>$55.00</td>\n",
              "    </tr>\n",
              "    <tr>\n",
              "      <th>0</th>\n",
              "      <td>10.0</td>\n",
              "      <td>--</td>\n",
              "      <td>1</td>\n",
              "      <td>Very lovely and cozy room for one. Convenientl...</td>\n",
              "      <td>Ballard is lovely, vibrant and one of the most...</td>\n",
              "      <td>1</td>\n",
              "      <td>1</td>\n",
              "      <td>1</td>\n",
              "      <td>Pull-out Sofa</td>\n",
              "      <td>{Internet,\"Wireless Internet\",Kitchen,\"Free Pa...</td>\n",
              "      <td>$0</td>\n",
              "      <td>$20.00</td>\n",
              "      <td>$52.00</td>\n",
              "    </tr>\n",
              "    <tr>\n",
              "      <th>0</th>\n",
              "      <td>10.0</td>\n",
              "      <td>--</td>\n",
              "      <td>1</td>\n",
              "      <td>The “Studio at Mibbett Hollow' is in a Beautif...</td>\n",
              "      <td>--</td>\n",
              "      <td>1</td>\n",
              "      <td>1</td>\n",
              "      <td>1</td>\n",
              "      <td>Real Bed</td>\n",
              "      <td>{\"Wireless Internet\",Kitchen,\"Free Parking on ...</td>\n",
              "      <td>$0</td>\n",
              "      <td>$15.00</td>\n",
              "      <td>$85.00</td>\n",
              "    </tr>\n",
              "    <tr>\n",
              "      <th>...</th>\n",
              "      <td>...</td>\n",
              "      <td>...</td>\n",
              "      <td>...</td>\n",
              "      <td>...</td>\n",
              "      <td>...</td>\n",
              "      <td>...</td>\n",
              "      <td>...</td>\n",
              "      <td>...</td>\n",
              "      <td>...</td>\n",
              "      <td>...</td>\n",
              "      <td>...</td>\n",
              "      <td>...</td>\n",
              "      <td>...</td>\n",
              "    </tr>\n",
              "    <tr>\n",
              "      <th>68</th>\n",
              "      <td>nan</td>\n",
              "      <td>--</td>\n",
              "      <td>8</td>\n",
              "      <td>Beautiful craftsman home in the historic Wedgw...</td>\n",
              "      <td>--</td>\n",
              "      <td>3</td>\n",
              "      <td>4</td>\n",
              "      <td>5</td>\n",
              "      <td>Real Bed</td>\n",
              "      <td>{TV,\"Cable TV\",Internet,\"Wireless Internet\",\"A...</td>\n",
              "      <td>$1,000.00</td>\n",
              "      <td>$178.00</td>\n",
              "      <td>$299.00</td>\n",
              "    </tr>\n",
              "    <tr>\n",
              "      <th>68</th>\n",
              "      <td>nan</td>\n",
              "      <td>--</td>\n",
              "      <td>8</td>\n",
              "      <td>Located in a very easily accessible area of Se...</td>\n",
              "      <td>Quiet, dead end street near I-5. The proximity...</td>\n",
              "      <td>2</td>\n",
              "      <td>4</td>\n",
              "      <td>4</td>\n",
              "      <td>Real Bed</td>\n",
              "      <td>{TV,\"Cable TV\",Internet,\"Wireless Internet\",Ki...</td>\n",
              "      <td>$0</td>\n",
              "      <td>$99.00</td>\n",
              "      <td>$199.00</td>\n",
              "    </tr>\n",
              "    <tr>\n",
              "      <th>68</th>\n",
              "      <td>nan</td>\n",
              "      <td>--</td>\n",
              "      <td>8</td>\n",
              "      <td>This home is fully furnished and available wee...</td>\n",
              "      <td>--</td>\n",
              "      <td>1</td>\n",
              "      <td>3</td>\n",
              "      <td>4</td>\n",
              "      <td>Real Bed</td>\n",
              "      <td>{TV,\"Cable TV\",Internet,\"Wireless Internet\",\"A...</td>\n",
              "      <td>$0</td>\n",
              "      <td>$0</td>\n",
              "      <td>$400.00</td>\n",
              "    </tr>\n",
              "    <tr>\n",
              "      <th>69</th>\n",
              "      <td>nan</td>\n",
              "      <td>--</td>\n",
              "      <td>9</td>\n",
              "      <td>This business-themed modern home features:  *H...</td>\n",
              "      <td>Your hosts made Madison Valley their home when...</td>\n",
              "      <td>2</td>\n",
              "      <td>3</td>\n",
              "      <td>6</td>\n",
              "      <td>Real Bed</td>\n",
              "      <td>{TV,\"Cable TV\",Internet,\"Wireless Internet\",\"A...</td>\n",
              "      <td>$1,000.00</td>\n",
              "      <td>$150.00</td>\n",
              "      <td>$250.00</td>\n",
              "    </tr>\n",
              "    <tr>\n",
              "      <th>69</th>\n",
              "      <td>nan</td>\n",
              "      <td>--</td>\n",
              "      <td>9</td>\n",
              "      <td>This welcoming home is in the quiet residentia...</td>\n",
              "      <td>Despite the quiet, leafy streets of this resid...</td>\n",
              "      <td>1</td>\n",
              "      <td>4</td>\n",
              "      <td>6</td>\n",
              "      <td>Real Bed</td>\n",
              "      <td>{TV,Internet,\"Wireless Internet\",Kitchen,\"Free...</td>\n",
              "      <td>$500.00</td>\n",
              "      <td>$0</td>\n",
              "      <td>$350.00</td>\n",
              "    </tr>\n",
              "  </tbody>\n",
              "</table>\n",
              "<p>3818 rows × 13 columns</p>\n",
              "</div>"
            ],
            "text/plain": [
              "   evaluacion_general experiencia_local max_hospedes  \\\n",
              "0                10.0                --            1   \n",
              "0                10.0                --            1   \n",
              "0                10.0                --            1   \n",
              "0                10.0                --            1   \n",
              "0                10.0                --            1   \n",
              "..                ...               ...          ...   \n",
              "68                nan                --            8   \n",
              "68                nan                --            8   \n",
              "68                nan                --            8   \n",
              "69                nan                --            9   \n",
              "69                nan                --            9   \n",
              "\n",
              "                                    descripcion_local  \\\n",
              "0   This clean and comfortable one bedroom sits ri...   \n",
              "0   Our century old Upper Queen Anne house is loca...   \n",
              "0   Cozy room in two-bedroom apartment along the l...   \n",
              "0   Very lovely and cozy room for one. Convenientl...   \n",
              "0   The “Studio at Mibbett Hollow' is in a Beautif...   \n",
              "..                                                ...   \n",
              "68  Beautiful craftsman home in the historic Wedgw...   \n",
              "68  Located in a very easily accessible area of Se...   \n",
              "68  This home is fully furnished and available wee...   \n",
              "69  This business-themed modern home features:  *H...   \n",
              "69  This welcoming home is in the quiet residentia...   \n",
              "\n",
              "                                 descripcion_vecindad cantidad_baños  \\\n",
              "0   Lower Queen Anne is near the Seattle Center (s...              1   \n",
              "0   Upper Queen Anne is a really pleasant, unique ...              1   \n",
              "0   The convenience of being in Seattle but on the...              1   \n",
              "0   Ballard is lovely, vibrant and one of the most...              1   \n",
              "0                                                  --              1   \n",
              "..                                                ...            ...   \n",
              "68                                                 --              3   \n",
              "68  Quiet, dead end street near I-5. The proximity...              2   \n",
              "68                                                 --              1   \n",
              "69  Your hosts made Madison Valley their home when...              2   \n",
              "69  Despite the quiet, leafy streets of this resid...              1   \n",
              "\n",
              "   cantidad_cuartos cantidad_camas    modelo_cama  \\\n",
              "0                 1              1       Real Bed   \n",
              "0                 1              1          Futon   \n",
              "0                 1              1          Futon   \n",
              "0                 1              1  Pull-out Sofa   \n",
              "0                 1              1       Real Bed   \n",
              "..              ...            ...            ...   \n",
              "68                4              5       Real Bed   \n",
              "68                4              4       Real Bed   \n",
              "68                3              4       Real Bed   \n",
              "69                3              6       Real Bed   \n",
              "69                4              6       Real Bed   \n",
              "\n",
              "                                          comodidades cuota_deposito  \\\n",
              "0   {Internet,\"Wireless Internet\",Kitchen,\"Free Pa...             $0   \n",
              "0   {TV,Internet,\"Wireless Internet\",Kitchen,\"Free...             $0   \n",
              "0   {TV,Internet,\"Wireless Internet\",Kitchen,\"Free...             $0   \n",
              "0   {Internet,\"Wireless Internet\",Kitchen,\"Free Pa...             $0   \n",
              "0   {\"Wireless Internet\",Kitchen,\"Free Parking on ...             $0   \n",
              "..                                                ...            ...   \n",
              "68  {TV,\"Cable TV\",Internet,\"Wireless Internet\",\"A...      $1,000.00   \n",
              "68  {TV,\"Cable TV\",Internet,\"Wireless Internet\",Ki...             $0   \n",
              "68  {TV,\"Cable TV\",Internet,\"Wireless Internet\",\"A...             $0   \n",
              "69  {TV,\"Cable TV\",Internet,\"Wireless Internet\",\"A...      $1,000.00   \n",
              "69  {TV,Internet,\"Wireless Internet\",Kitchen,\"Free...        $500.00   \n",
              "\n",
              "   cuota_limpieza   precio  \n",
              "0              $0  $110.00  \n",
              "0              $0   $45.00  \n",
              "0              $0   $55.00  \n",
              "0          $20.00   $52.00  \n",
              "0          $15.00   $85.00  \n",
              "..            ...      ...  \n",
              "68        $178.00  $299.00  \n",
              "68         $99.00  $199.00  \n",
              "68             $0  $400.00  \n",
              "69        $150.00  $250.00  \n",
              "69             $0  $350.00  \n",
              "\n",
              "[3818 rows x 13 columns]"
            ]
          },
          "execution_count": 41,
          "metadata": {},
          "output_type": "execute_result"
        }
      ],
      "source": [
        "datos = datos.explode(columnas[3:])\n",
        "datos"
      ]
    },
    {
      "cell_type": "code",
      "execution_count": 42,
      "metadata": {
        "colab": {
          "base_uri": "https://localhost:8080/",
          "height": 400
        },
        "id": "nyXdlLicnqSl",
        "outputId": "699d91c5-e156-4098-f574-ae728898694f"
      },
      "outputs": [
        {
          "data": {
            "text/html": [
              "<div>\n",
              "<style scoped>\n",
              "    .dataframe tbody tr th:only-of-type {\n",
              "        vertical-align: middle;\n",
              "    }\n",
              "\n",
              "    .dataframe tbody tr th {\n",
              "        vertical-align: top;\n",
              "    }\n",
              "\n",
              "    .dataframe thead th {\n",
              "        text-align: right;\n",
              "    }\n",
              "</style>\n",
              "<table border=\"1\" class=\"dataframe\">\n",
              "  <thead>\n",
              "    <tr style=\"text-align: right;\">\n",
              "      <th></th>\n",
              "      <th>evaluacion_general</th>\n",
              "      <th>experiencia_local</th>\n",
              "      <th>max_hospedes</th>\n",
              "      <th>descripcion_local</th>\n",
              "      <th>descripcion_vecindad</th>\n",
              "      <th>cantidad_baños</th>\n",
              "      <th>cantidad_cuartos</th>\n",
              "      <th>cantidad_camas</th>\n",
              "      <th>modelo_cama</th>\n",
              "      <th>comodidades</th>\n",
              "      <th>cuota_deposito</th>\n",
              "      <th>cuota_limpieza</th>\n",
              "      <th>precio</th>\n",
              "    </tr>\n",
              "  </thead>\n",
              "  <tbody>\n",
              "    <tr>\n",
              "      <th>0</th>\n",
              "      <td>10.0</td>\n",
              "      <td>--</td>\n",
              "      <td>1</td>\n",
              "      <td>This clean and comfortable one bedroom sits ri...</td>\n",
              "      <td>Lower Queen Anne is near the Seattle Center (s...</td>\n",
              "      <td>1</td>\n",
              "      <td>1</td>\n",
              "      <td>1</td>\n",
              "      <td>Real Bed</td>\n",
              "      <td>{Internet,\"Wireless Internet\",Kitchen,\"Free Pa...</td>\n",
              "      <td>$0</td>\n",
              "      <td>$0</td>\n",
              "      <td>$110.00</td>\n",
              "    </tr>\n",
              "    <tr>\n",
              "      <th>1</th>\n",
              "      <td>10.0</td>\n",
              "      <td>--</td>\n",
              "      <td>1</td>\n",
              "      <td>Our century old Upper Queen Anne house is loca...</td>\n",
              "      <td>Upper Queen Anne is a really pleasant, unique ...</td>\n",
              "      <td>1</td>\n",
              "      <td>1</td>\n",
              "      <td>1</td>\n",
              "      <td>Futon</td>\n",
              "      <td>{TV,Internet,\"Wireless Internet\",Kitchen,\"Free...</td>\n",
              "      <td>$0</td>\n",
              "      <td>$0</td>\n",
              "      <td>$45.00</td>\n",
              "    </tr>\n",
              "    <tr>\n",
              "      <th>2</th>\n",
              "      <td>10.0</td>\n",
              "      <td>--</td>\n",
              "      <td>1</td>\n",
              "      <td>Cozy room in two-bedroom apartment along the l...</td>\n",
              "      <td>The convenience of being in Seattle but on the...</td>\n",
              "      <td>1</td>\n",
              "      <td>1</td>\n",
              "      <td>1</td>\n",
              "      <td>Futon</td>\n",
              "      <td>{TV,Internet,\"Wireless Internet\",Kitchen,\"Free...</td>\n",
              "      <td>$0</td>\n",
              "      <td>$0</td>\n",
              "      <td>$55.00</td>\n",
              "    </tr>\n",
              "    <tr>\n",
              "      <th>3</th>\n",
              "      <td>10.0</td>\n",
              "      <td>--</td>\n",
              "      <td>1</td>\n",
              "      <td>Very lovely and cozy room for one. Convenientl...</td>\n",
              "      <td>Ballard is lovely, vibrant and one of the most...</td>\n",
              "      <td>1</td>\n",
              "      <td>1</td>\n",
              "      <td>1</td>\n",
              "      <td>Pull-out Sofa</td>\n",
              "      <td>{Internet,\"Wireless Internet\",Kitchen,\"Free Pa...</td>\n",
              "      <td>$0</td>\n",
              "      <td>$20.00</td>\n",
              "      <td>$52.00</td>\n",
              "    </tr>\n",
              "    <tr>\n",
              "      <th>4</th>\n",
              "      <td>10.0</td>\n",
              "      <td>--</td>\n",
              "      <td>1</td>\n",
              "      <td>The “Studio at Mibbett Hollow' is in a Beautif...</td>\n",
              "      <td>--</td>\n",
              "      <td>1</td>\n",
              "      <td>1</td>\n",
              "      <td>1</td>\n",
              "      <td>Real Bed</td>\n",
              "      <td>{\"Wireless Internet\",Kitchen,\"Free Parking on ...</td>\n",
              "      <td>$0</td>\n",
              "      <td>$15.00</td>\n",
              "      <td>$85.00</td>\n",
              "    </tr>\n",
              "  </tbody>\n",
              "</table>\n",
              "</div>"
            ],
            "text/plain": [
              "  evaluacion_general experiencia_local max_hospedes  \\\n",
              "0               10.0                --            1   \n",
              "1               10.0                --            1   \n",
              "2               10.0                --            1   \n",
              "3               10.0                --            1   \n",
              "4               10.0                --            1   \n",
              "\n",
              "                                   descripcion_local  \\\n",
              "0  This clean and comfortable one bedroom sits ri...   \n",
              "1  Our century old Upper Queen Anne house is loca...   \n",
              "2  Cozy room in two-bedroom apartment along the l...   \n",
              "3  Very lovely and cozy room for one. Convenientl...   \n",
              "4  The “Studio at Mibbett Hollow' is in a Beautif...   \n",
              "\n",
              "                                descripcion_vecindad cantidad_baños  \\\n",
              "0  Lower Queen Anne is near the Seattle Center (s...              1   \n",
              "1  Upper Queen Anne is a really pleasant, unique ...              1   \n",
              "2  The convenience of being in Seattle but on the...              1   \n",
              "3  Ballard is lovely, vibrant and one of the most...              1   \n",
              "4                                                 --              1   \n",
              "\n",
              "  cantidad_cuartos cantidad_camas    modelo_cama  \\\n",
              "0                1              1       Real Bed   \n",
              "1                1              1          Futon   \n",
              "2                1              1          Futon   \n",
              "3                1              1  Pull-out Sofa   \n",
              "4                1              1       Real Bed   \n",
              "\n",
              "                                         comodidades cuota_deposito  \\\n",
              "0  {Internet,\"Wireless Internet\",Kitchen,\"Free Pa...             $0   \n",
              "1  {TV,Internet,\"Wireless Internet\",Kitchen,\"Free...             $0   \n",
              "2  {TV,Internet,\"Wireless Internet\",Kitchen,\"Free...             $0   \n",
              "3  {Internet,\"Wireless Internet\",Kitchen,\"Free Pa...             $0   \n",
              "4  {\"Wireless Internet\",Kitchen,\"Free Parking on ...             $0   \n",
              "\n",
              "  cuota_limpieza   precio  \n",
              "0             $0  $110.00  \n",
              "1             $0   $45.00  \n",
              "2             $0   $55.00  \n",
              "3         $20.00   $52.00  \n",
              "4         $15.00   $85.00  "
            ]
          },
          "execution_count": 42,
          "metadata": {},
          "output_type": "execute_result"
        }
      ],
      "source": [
        "datos.reset_index(inplace = True, drop = True)\n",
        "datos.head()"
      ]
    },
    {
      "cell_type": "code",
      "execution_count": 43,
      "metadata": {
        "colab": {
          "base_uri": "https://localhost:8080/"
        },
        "id": "X7708J1fnqYz",
        "outputId": "defa495c-182b-42f3-b2c8-65606930984d"
      },
      "outputs": [
        {
          "name": "stdout",
          "output_type": "stream",
          "text": [
            "<class 'pandas.core.frame.DataFrame'>\n",
            "RangeIndex: 3818 entries, 0 to 3817\n",
            "Data columns (total 13 columns):\n",
            " #   Column                Non-Null Count  Dtype \n",
            "---  ------                --------------  ----- \n",
            " 0   evaluacion_general    3818 non-null   object\n",
            " 1   experiencia_local     3818 non-null   object\n",
            " 2   max_hospedes          3818 non-null   object\n",
            " 3   descripcion_local     3818 non-null   object\n",
            " 4   descripcion_vecindad  3818 non-null   object\n",
            " 5   cantidad_baños        3818 non-null   object\n",
            " 6   cantidad_cuartos      3818 non-null   object\n",
            " 7   cantidad_camas        3818 non-null   object\n",
            " 8   modelo_cama           3818 non-null   object\n",
            " 9   comodidades           3818 non-null   object\n",
            " 10  cuota_deposito        3818 non-null   object\n",
            " 11  cuota_limpieza        3818 non-null   object\n",
            " 12  precio                3818 non-null   object\n",
            "dtypes: object(13)\n",
            "memory usage: 387.9+ KB\n"
          ]
        }
      ],
      "source": [
        "datos.info()"
      ]
    },
    {
      "cell_type": "code",
      "execution_count": 44,
      "metadata": {
        "id": "YmMHtWKpnqfV"
      },
      "outputs": [],
      "source": [
        "import numpy as np"
      ]
    },
    {
      "cell_type": "code",
      "execution_count": 45,
      "metadata": {
        "id": "cMr1m0M5tcL3"
      },
      "outputs": [],
      "source": [
        "datos['max_hospedes'] = datos['max_hospedes'].astype(np.int64)"
      ]
    },
    {
      "cell_type": "code",
      "execution_count": 46,
      "metadata": {
        "colab": {
          "base_uri": "https://localhost:8080/"
        },
        "id": "vV4gHehZtcQC",
        "outputId": "a40dfe4a-bfd1-4287-b6bb-8037ccb26352"
      },
      "outputs": [
        {
          "name": "stdout",
          "output_type": "stream",
          "text": [
            "<class 'pandas.core.frame.DataFrame'>\n",
            "RangeIndex: 3818 entries, 0 to 3817\n",
            "Data columns (total 13 columns):\n",
            " #   Column                Non-Null Count  Dtype \n",
            "---  ------                --------------  ----- \n",
            " 0   evaluacion_general    3818 non-null   object\n",
            " 1   experiencia_local     3818 non-null   object\n",
            " 2   max_hospedes          3818 non-null   int64 \n",
            " 3   descripcion_local     3818 non-null   object\n",
            " 4   descripcion_vecindad  3818 non-null   object\n",
            " 5   cantidad_baños        3818 non-null   object\n",
            " 6   cantidad_cuartos      3818 non-null   object\n",
            " 7   cantidad_camas        3818 non-null   object\n",
            " 8   modelo_cama           3818 non-null   object\n",
            " 9   comodidades           3818 non-null   object\n",
            " 10  cuota_deposito        3818 non-null   object\n",
            " 11  cuota_limpieza        3818 non-null   object\n",
            " 12  precio                3818 non-null   object\n",
            "dtypes: int64(1), object(12)\n",
            "memory usage: 387.9+ KB\n"
          ]
        }
      ],
      "source": [
        "datos.info()"
      ]
    },
    {
      "cell_type": "code",
      "execution_count": 47,
      "metadata": {
        "id": "tVS8fmP6tcTJ"
      },
      "outputs": [],
      "source": [
        "col_numericas = ['cantidad_baños', 'cantidad_cuartos', 'cantidad_camas']"
      ]
    },
    {
      "cell_type": "code",
      "execution_count": 48,
      "metadata": {
        "id": "aqY4pcW6tcVg"
      },
      "outputs": [],
      "source": [
        "datos[col_numericas] = datos[col_numericas].astype(np.int64)"
      ]
    },
    {
      "cell_type": "code",
      "execution_count": 49,
      "metadata": {
        "colab": {
          "base_uri": "https://localhost:8080/"
        },
        "id": "sfIhk-yetcYF",
        "outputId": "cd8e8798-b926-44f4-93fa-93f094af1aed"
      },
      "outputs": [
        {
          "name": "stdout",
          "output_type": "stream",
          "text": [
            "<class 'pandas.core.frame.DataFrame'>\n",
            "RangeIndex: 3818 entries, 0 to 3817\n",
            "Data columns (total 13 columns):\n",
            " #   Column                Non-Null Count  Dtype \n",
            "---  ------                --------------  ----- \n",
            " 0   evaluacion_general    3818 non-null   object\n",
            " 1   experiencia_local     3818 non-null   object\n",
            " 2   max_hospedes          3818 non-null   int64 \n",
            " 3   descripcion_local     3818 non-null   object\n",
            " 4   descripcion_vecindad  3818 non-null   object\n",
            " 5   cantidad_baños        3818 non-null   int64 \n",
            " 6   cantidad_cuartos      3818 non-null   int64 \n",
            " 7   cantidad_camas        3818 non-null   int64 \n",
            " 8   modelo_cama           3818 non-null   object\n",
            " 9   comodidades           3818 non-null   object\n",
            " 10  cuota_deposito        3818 non-null   object\n",
            " 11  cuota_limpieza        3818 non-null   object\n",
            " 12  precio                3818 non-null   object\n",
            "dtypes: int64(4), object(9)\n",
            "memory usage: 387.9+ KB\n"
          ]
        }
      ],
      "source": [
        "datos.info()"
      ]
    },
    {
      "cell_type": "code",
      "execution_count": 50,
      "metadata": {
        "id": "omW05Vcbnqll"
      },
      "outputs": [],
      "source": [
        "datos['evaluacion_general'] = datos['evaluacion_general'].astype(np.float64)"
      ]
    },
    {
      "cell_type": "code",
      "execution_count": 51,
      "metadata": {
        "colab": {
          "base_uri": "https://localhost:8080/"
        },
        "id": "QliFnsR-nqr1",
        "outputId": "370763c9-0699-4bc4-e62a-b67a0390a317"
      },
      "outputs": [
        {
          "name": "stdout",
          "output_type": "stream",
          "text": [
            "<class 'pandas.core.frame.DataFrame'>\n",
            "RangeIndex: 3818 entries, 0 to 3817\n",
            "Data columns (total 13 columns):\n",
            " #   Column                Non-Null Count  Dtype  \n",
            "---  ------                --------------  -----  \n",
            " 0   evaluacion_general    3162 non-null   float64\n",
            " 1   experiencia_local     3818 non-null   object \n",
            " 2   max_hospedes          3818 non-null   int64  \n",
            " 3   descripcion_local     3818 non-null   object \n",
            " 4   descripcion_vecindad  3818 non-null   object \n",
            " 5   cantidad_baños        3818 non-null   int64  \n",
            " 6   cantidad_cuartos      3818 non-null   int64  \n",
            " 7   cantidad_camas        3818 non-null   int64  \n",
            " 8   modelo_cama           3818 non-null   object \n",
            " 9   comodidades           3818 non-null   object \n",
            " 10  cuota_deposito        3818 non-null   object \n",
            " 11  cuota_limpieza        3818 non-null   object \n",
            " 12  precio                3818 non-null   object \n",
            "dtypes: float64(1), int64(4), object(8)\n",
            "memory usage: 387.9+ KB\n"
          ]
        }
      ],
      "source": [
        "datos.info()"
      ]
    },
    {
      "cell_type": "code",
      "execution_count": 52,
      "metadata": {
        "id": "egtxhsM0nq2s"
      },
      "outputs": [],
      "source": [
        "datos['precio'] = datos['precio'].apply(lambda x: x.replace('$','').replace(',','').strip())"
      ]
    },
    {
      "cell_type": "code",
      "execution_count": 53,
      "metadata": {
        "id": "vDLd9jwBnqxP"
      },
      "outputs": [],
      "source": [
        "datos['precio'] = datos['precio'].astype(np.float64)"
      ]
    },
    {
      "cell_type": "code",
      "execution_count": 54,
      "metadata": {
        "colab": {
          "base_uri": "https://localhost:8080/"
        },
        "id": "naq5BwIHnq7L",
        "outputId": "3b9be6a2-75d5-4cef-ca11-c3aae52fb4f5"
      },
      "outputs": [
        {
          "name": "stdout",
          "output_type": "stream",
          "text": [
            "<class 'pandas.core.frame.DataFrame'>\n",
            "RangeIndex: 3818 entries, 0 to 3817\n",
            "Data columns (total 13 columns):\n",
            " #   Column                Non-Null Count  Dtype  \n",
            "---  ------                --------------  -----  \n",
            " 0   evaluacion_general    3162 non-null   float64\n",
            " 1   experiencia_local     3818 non-null   object \n",
            " 2   max_hospedes          3818 non-null   int64  \n",
            " 3   descripcion_local     3818 non-null   object \n",
            " 4   descripcion_vecindad  3818 non-null   object \n",
            " 5   cantidad_baños        3818 non-null   int64  \n",
            " 6   cantidad_cuartos      3818 non-null   int64  \n",
            " 7   cantidad_camas        3818 non-null   int64  \n",
            " 8   modelo_cama           3818 non-null   object \n",
            " 9   comodidades           3818 non-null   object \n",
            " 10  cuota_deposito        3818 non-null   object \n",
            " 11  cuota_limpieza        3818 non-null   object \n",
            " 12  precio                3818 non-null   float64\n",
            "dtypes: float64(2), int64(4), object(7)\n",
            "memory usage: 387.9+ KB\n"
          ]
        }
      ],
      "source": [
        "datos.info()"
      ]
    },
    {
      "cell_type": "code",
      "execution_count": 55,
      "metadata": {
        "id": "NqZ1pv_WxcCe"
      },
      "outputs": [
        {
          "name": "stderr",
          "output_type": "stream",
          "text": [
            "/tmp/ipykernel_16742/2696303735.py:1: FutureWarning: DataFrame.applymap has been deprecated. Use DataFrame.map instead.\n",
            "  datos[['cuota_deposito', 'cuota_limpieza']] = datos[['cuota_deposito', 'cuota_limpieza']].applymap(lambda x: x.replace('$','').replace(',','').strip())\n"
          ]
        }
      ],
      "source": [
        "datos[['cuota_deposito', 'cuota_limpieza']] = datos[['cuota_deposito', 'cuota_limpieza']].applymap(lambda x: x.replace('$','').replace(',','').strip())"
      ]
    },
    {
      "cell_type": "code",
      "execution_count": 56,
      "metadata": {
        "id": "cj0Ztkjo0t8V"
      },
      "outputs": [],
      "source": [
        "datos[['cuota_deposito', 'cuota_limpieza']] = datos[['cuota_deposito', 'cuota_limpieza']].astype(np.float64)"
      ]
    },
    {
      "cell_type": "code",
      "execution_count": 57,
      "metadata": {
        "colab": {
          "base_uri": "https://localhost:8080/"
        },
        "id": "-xfDkDmp3WBY",
        "outputId": "bc442f6b-8bf9-4473-c383-58743a9c6a72"
      },
      "outputs": [
        {
          "name": "stdout",
          "output_type": "stream",
          "text": [
            "<class 'pandas.core.frame.DataFrame'>\n",
            "RangeIndex: 3818 entries, 0 to 3817\n",
            "Data columns (total 13 columns):\n",
            " #   Column                Non-Null Count  Dtype  \n",
            "---  ------                --------------  -----  \n",
            " 0   evaluacion_general    3162 non-null   float64\n",
            " 1   experiencia_local     3818 non-null   object \n",
            " 2   max_hospedes          3818 non-null   int64  \n",
            " 3   descripcion_local     3818 non-null   object \n",
            " 4   descripcion_vecindad  3818 non-null   object \n",
            " 5   cantidad_baños        3818 non-null   int64  \n",
            " 6   cantidad_cuartos      3818 non-null   int64  \n",
            " 7   cantidad_camas        3818 non-null   int64  \n",
            " 8   modelo_cama           3818 non-null   object \n",
            " 9   comodidades           3818 non-null   object \n",
            " 10  cuota_deposito        3818 non-null   float64\n",
            " 11  cuota_limpieza        3818 non-null   float64\n",
            " 12  precio                3818 non-null   float64\n",
            "dtypes: float64(4), int64(4), object(5)\n",
            "memory usage: 387.9+ KB\n"
          ]
        }
      ],
      "source": [
        "datos.info()"
      ]
    },
    {
      "cell_type": "markdown",
      "metadata": {
        "id": "dMl2hM7RraIN"
      },
      "source": [
        "#**3. Datos de texto**\n",
        "\n",
        "\n",
        "---\n",
        "\n",
        "\n"
      ]
    },
    {
      "cell_type": "code",
      "execution_count": 58,
      "metadata": {
        "colab": {
          "base_uri": "https://localhost:8080/",
          "height": 400
        },
        "id": "IcOzhHRPERlN",
        "outputId": "5fb4549d-100d-4a33-ff08-6a0507f36ad9"
      },
      "outputs": [
        {
          "data": {
            "text/html": [
              "<div>\n",
              "<style scoped>\n",
              "    .dataframe tbody tr th:only-of-type {\n",
              "        vertical-align: middle;\n",
              "    }\n",
              "\n",
              "    .dataframe tbody tr th {\n",
              "        vertical-align: top;\n",
              "    }\n",
              "\n",
              "    .dataframe thead th {\n",
              "        text-align: right;\n",
              "    }\n",
              "</style>\n",
              "<table border=\"1\" class=\"dataframe\">\n",
              "  <thead>\n",
              "    <tr style=\"text-align: right;\">\n",
              "      <th></th>\n",
              "      <th>evaluacion_general</th>\n",
              "      <th>experiencia_local</th>\n",
              "      <th>max_hospedes</th>\n",
              "      <th>descripcion_local</th>\n",
              "      <th>descripcion_vecindad</th>\n",
              "      <th>cantidad_baños</th>\n",
              "      <th>cantidad_cuartos</th>\n",
              "      <th>cantidad_camas</th>\n",
              "      <th>modelo_cama</th>\n",
              "      <th>comodidades</th>\n",
              "      <th>cuota_deposito</th>\n",
              "      <th>cuota_limpieza</th>\n",
              "      <th>precio</th>\n",
              "    </tr>\n",
              "  </thead>\n",
              "  <tbody>\n",
              "    <tr>\n",
              "      <th>0</th>\n",
              "      <td>10.0</td>\n",
              "      <td>--</td>\n",
              "      <td>1</td>\n",
              "      <td>This clean and comfortable one bedroom sits ri...</td>\n",
              "      <td>Lower Queen Anne is near the Seattle Center (s...</td>\n",
              "      <td>1</td>\n",
              "      <td>1</td>\n",
              "      <td>1</td>\n",
              "      <td>Real Bed</td>\n",
              "      <td>{Internet,\"Wireless Internet\",Kitchen,\"Free Pa...</td>\n",
              "      <td>0.0</td>\n",
              "      <td>0.0</td>\n",
              "      <td>110.0</td>\n",
              "    </tr>\n",
              "    <tr>\n",
              "      <th>1</th>\n",
              "      <td>10.0</td>\n",
              "      <td>--</td>\n",
              "      <td>1</td>\n",
              "      <td>Our century old Upper Queen Anne house is loca...</td>\n",
              "      <td>Upper Queen Anne is a really pleasant, unique ...</td>\n",
              "      <td>1</td>\n",
              "      <td>1</td>\n",
              "      <td>1</td>\n",
              "      <td>Futon</td>\n",
              "      <td>{TV,Internet,\"Wireless Internet\",Kitchen,\"Free...</td>\n",
              "      <td>0.0</td>\n",
              "      <td>0.0</td>\n",
              "      <td>45.0</td>\n",
              "    </tr>\n",
              "    <tr>\n",
              "      <th>2</th>\n",
              "      <td>10.0</td>\n",
              "      <td>--</td>\n",
              "      <td>1</td>\n",
              "      <td>Cozy room in two-bedroom apartment along the l...</td>\n",
              "      <td>The convenience of being in Seattle but on the...</td>\n",
              "      <td>1</td>\n",
              "      <td>1</td>\n",
              "      <td>1</td>\n",
              "      <td>Futon</td>\n",
              "      <td>{TV,Internet,\"Wireless Internet\",Kitchen,\"Free...</td>\n",
              "      <td>0.0</td>\n",
              "      <td>0.0</td>\n",
              "      <td>55.0</td>\n",
              "    </tr>\n",
              "    <tr>\n",
              "      <th>3</th>\n",
              "      <td>10.0</td>\n",
              "      <td>--</td>\n",
              "      <td>1</td>\n",
              "      <td>Very lovely and cozy room for one. Convenientl...</td>\n",
              "      <td>Ballard is lovely, vibrant and one of the most...</td>\n",
              "      <td>1</td>\n",
              "      <td>1</td>\n",
              "      <td>1</td>\n",
              "      <td>Pull-out Sofa</td>\n",
              "      <td>{Internet,\"Wireless Internet\",Kitchen,\"Free Pa...</td>\n",
              "      <td>0.0</td>\n",
              "      <td>20.0</td>\n",
              "      <td>52.0</td>\n",
              "    </tr>\n",
              "    <tr>\n",
              "      <th>4</th>\n",
              "      <td>10.0</td>\n",
              "      <td>--</td>\n",
              "      <td>1</td>\n",
              "      <td>The “Studio at Mibbett Hollow' is in a Beautif...</td>\n",
              "      <td>--</td>\n",
              "      <td>1</td>\n",
              "      <td>1</td>\n",
              "      <td>1</td>\n",
              "      <td>Real Bed</td>\n",
              "      <td>{\"Wireless Internet\",Kitchen,\"Free Parking on ...</td>\n",
              "      <td>0.0</td>\n",
              "      <td>15.0</td>\n",
              "      <td>85.0</td>\n",
              "    </tr>\n",
              "  </tbody>\n",
              "</table>\n",
              "</div>"
            ],
            "text/plain": [
              "   evaluacion_general experiencia_local  max_hospedes  \\\n",
              "0                10.0                --             1   \n",
              "1                10.0                --             1   \n",
              "2                10.0                --             1   \n",
              "3                10.0                --             1   \n",
              "4                10.0                --             1   \n",
              "\n",
              "                                   descripcion_local  \\\n",
              "0  This clean and comfortable one bedroom sits ri...   \n",
              "1  Our century old Upper Queen Anne house is loca...   \n",
              "2  Cozy room in two-bedroom apartment along the l...   \n",
              "3  Very lovely and cozy room for one. Convenientl...   \n",
              "4  The “Studio at Mibbett Hollow' is in a Beautif...   \n",
              "\n",
              "                                descripcion_vecindad  cantidad_baños  \\\n",
              "0  Lower Queen Anne is near the Seattle Center (s...               1   \n",
              "1  Upper Queen Anne is a really pleasant, unique ...               1   \n",
              "2  The convenience of being in Seattle but on the...               1   \n",
              "3  Ballard is lovely, vibrant and one of the most...               1   \n",
              "4                                                 --               1   \n",
              "\n",
              "   cantidad_cuartos  cantidad_camas    modelo_cama  \\\n",
              "0                 1               1       Real Bed   \n",
              "1                 1               1          Futon   \n",
              "2                 1               1          Futon   \n",
              "3                 1               1  Pull-out Sofa   \n",
              "4                 1               1       Real Bed   \n",
              "\n",
              "                                         comodidades  cuota_deposito  \\\n",
              "0  {Internet,\"Wireless Internet\",Kitchen,\"Free Pa...             0.0   \n",
              "1  {TV,Internet,\"Wireless Internet\",Kitchen,\"Free...             0.0   \n",
              "2  {TV,Internet,\"Wireless Internet\",Kitchen,\"Free...             0.0   \n",
              "3  {Internet,\"Wireless Internet\",Kitchen,\"Free Pa...             0.0   \n",
              "4  {\"Wireless Internet\",Kitchen,\"Free Parking on ...             0.0   \n",
              "\n",
              "   cuota_limpieza  precio  \n",
              "0             0.0   110.0  \n",
              "1             0.0    45.0  \n",
              "2             0.0    55.0  \n",
              "3            20.0    52.0  \n",
              "4            15.0    85.0  "
            ]
          },
          "execution_count": 58,
          "metadata": {},
          "output_type": "execute_result"
        }
      ],
      "source": [
        "datos.head()"
      ]
    },
    {
      "cell_type": "code",
      "execution_count": 59,
      "metadata": {
        "id": "7zIk3vG7rVdP"
      },
      "outputs": [],
      "source": [
        "datos['descripcion_local'] = datos['descripcion_local'].str.lower()"
      ]
    },
    {
      "cell_type": "code",
      "execution_count": 60,
      "metadata": {
        "colab": {
          "base_uri": "https://localhost:8080/",
          "height": 400
        },
        "id": "pOEGOzh2rVfV",
        "outputId": "62cf4b78-16ab-4e7b-8447-c1b03757659e"
      },
      "outputs": [
        {
          "data": {
            "text/html": [
              "<div>\n",
              "<style scoped>\n",
              "    .dataframe tbody tr th:only-of-type {\n",
              "        vertical-align: middle;\n",
              "    }\n",
              "\n",
              "    .dataframe tbody tr th {\n",
              "        vertical-align: top;\n",
              "    }\n",
              "\n",
              "    .dataframe thead th {\n",
              "        text-align: right;\n",
              "    }\n",
              "</style>\n",
              "<table border=\"1\" class=\"dataframe\">\n",
              "  <thead>\n",
              "    <tr style=\"text-align: right;\">\n",
              "      <th></th>\n",
              "      <th>evaluacion_general</th>\n",
              "      <th>experiencia_local</th>\n",
              "      <th>max_hospedes</th>\n",
              "      <th>descripcion_local</th>\n",
              "      <th>descripcion_vecindad</th>\n",
              "      <th>cantidad_baños</th>\n",
              "      <th>cantidad_cuartos</th>\n",
              "      <th>cantidad_camas</th>\n",
              "      <th>modelo_cama</th>\n",
              "      <th>comodidades</th>\n",
              "      <th>cuota_deposito</th>\n",
              "      <th>cuota_limpieza</th>\n",
              "      <th>precio</th>\n",
              "    </tr>\n",
              "  </thead>\n",
              "  <tbody>\n",
              "    <tr>\n",
              "      <th>0</th>\n",
              "      <td>10.0</td>\n",
              "      <td>--</td>\n",
              "      <td>1</td>\n",
              "      <td>this clean and comfortable one bedroom sits ri...</td>\n",
              "      <td>Lower Queen Anne is near the Seattle Center (s...</td>\n",
              "      <td>1</td>\n",
              "      <td>1</td>\n",
              "      <td>1</td>\n",
              "      <td>Real Bed</td>\n",
              "      <td>{Internet,\"Wireless Internet\",Kitchen,\"Free Pa...</td>\n",
              "      <td>0.0</td>\n",
              "      <td>0.0</td>\n",
              "      <td>110.0</td>\n",
              "    </tr>\n",
              "    <tr>\n",
              "      <th>1</th>\n",
              "      <td>10.0</td>\n",
              "      <td>--</td>\n",
              "      <td>1</td>\n",
              "      <td>our century old upper queen anne house is loca...</td>\n",
              "      <td>Upper Queen Anne is a really pleasant, unique ...</td>\n",
              "      <td>1</td>\n",
              "      <td>1</td>\n",
              "      <td>1</td>\n",
              "      <td>Futon</td>\n",
              "      <td>{TV,Internet,\"Wireless Internet\",Kitchen,\"Free...</td>\n",
              "      <td>0.0</td>\n",
              "      <td>0.0</td>\n",
              "      <td>45.0</td>\n",
              "    </tr>\n",
              "    <tr>\n",
              "      <th>2</th>\n",
              "      <td>10.0</td>\n",
              "      <td>--</td>\n",
              "      <td>1</td>\n",
              "      <td>cozy room in two-bedroom apartment along the l...</td>\n",
              "      <td>The convenience of being in Seattle but on the...</td>\n",
              "      <td>1</td>\n",
              "      <td>1</td>\n",
              "      <td>1</td>\n",
              "      <td>Futon</td>\n",
              "      <td>{TV,Internet,\"Wireless Internet\",Kitchen,\"Free...</td>\n",
              "      <td>0.0</td>\n",
              "      <td>0.0</td>\n",
              "      <td>55.0</td>\n",
              "    </tr>\n",
              "    <tr>\n",
              "      <th>3</th>\n",
              "      <td>10.0</td>\n",
              "      <td>--</td>\n",
              "      <td>1</td>\n",
              "      <td>very lovely and cozy room for one. convenientl...</td>\n",
              "      <td>Ballard is lovely, vibrant and one of the most...</td>\n",
              "      <td>1</td>\n",
              "      <td>1</td>\n",
              "      <td>1</td>\n",
              "      <td>Pull-out Sofa</td>\n",
              "      <td>{Internet,\"Wireless Internet\",Kitchen,\"Free Pa...</td>\n",
              "      <td>0.0</td>\n",
              "      <td>20.0</td>\n",
              "      <td>52.0</td>\n",
              "    </tr>\n",
              "    <tr>\n",
              "      <th>4</th>\n",
              "      <td>10.0</td>\n",
              "      <td>--</td>\n",
              "      <td>1</td>\n",
              "      <td>the “studio at mibbett hollow' is in a beautif...</td>\n",
              "      <td>--</td>\n",
              "      <td>1</td>\n",
              "      <td>1</td>\n",
              "      <td>1</td>\n",
              "      <td>Real Bed</td>\n",
              "      <td>{\"Wireless Internet\",Kitchen,\"Free Parking on ...</td>\n",
              "      <td>0.0</td>\n",
              "      <td>15.0</td>\n",
              "      <td>85.0</td>\n",
              "    </tr>\n",
              "  </tbody>\n",
              "</table>\n",
              "</div>"
            ],
            "text/plain": [
              "   evaluacion_general experiencia_local  max_hospedes  \\\n",
              "0                10.0                --             1   \n",
              "1                10.0                --             1   \n",
              "2                10.0                --             1   \n",
              "3                10.0                --             1   \n",
              "4                10.0                --             1   \n",
              "\n",
              "                                   descripcion_local  \\\n",
              "0  this clean and comfortable one bedroom sits ri...   \n",
              "1  our century old upper queen anne house is loca...   \n",
              "2  cozy room in two-bedroom apartment along the l...   \n",
              "3  very lovely and cozy room for one. convenientl...   \n",
              "4  the “studio at mibbett hollow' is in a beautif...   \n",
              "\n",
              "                                descripcion_vecindad  cantidad_baños  \\\n",
              "0  Lower Queen Anne is near the Seattle Center (s...               1   \n",
              "1  Upper Queen Anne is a really pleasant, unique ...               1   \n",
              "2  The convenience of being in Seattle but on the...               1   \n",
              "3  Ballard is lovely, vibrant and one of the most...               1   \n",
              "4                                                 --               1   \n",
              "\n",
              "   cantidad_cuartos  cantidad_camas    modelo_cama  \\\n",
              "0                 1               1       Real Bed   \n",
              "1                 1               1          Futon   \n",
              "2                 1               1          Futon   \n",
              "3                 1               1  Pull-out Sofa   \n",
              "4                 1               1       Real Bed   \n",
              "\n",
              "                                         comodidades  cuota_deposito  \\\n",
              "0  {Internet,\"Wireless Internet\",Kitchen,\"Free Pa...             0.0   \n",
              "1  {TV,Internet,\"Wireless Internet\",Kitchen,\"Free...             0.0   \n",
              "2  {TV,Internet,\"Wireless Internet\",Kitchen,\"Free...             0.0   \n",
              "3  {Internet,\"Wireless Internet\",Kitchen,\"Free Pa...             0.0   \n",
              "4  {\"Wireless Internet\",Kitchen,\"Free Parking on ...             0.0   \n",
              "\n",
              "   cuota_limpieza  precio  \n",
              "0             0.0   110.0  \n",
              "1             0.0    45.0  \n",
              "2             0.0    55.0  \n",
              "3            20.0    52.0  \n",
              "4            15.0    85.0  "
            ]
          },
          "execution_count": 60,
          "metadata": {},
          "output_type": "execute_result"
        }
      ],
      "source": [
        "datos.head()"
      ]
    },
    {
      "cell_type": "code",
      "execution_count": 61,
      "metadata": {
        "colab": {
          "base_uri": "https://localhost:8080/",
          "height": 156
        },
        "id": "ux4RZ1JCPeJW",
        "outputId": "92e06bcc-c9ab-44cd-a6c3-b9104767976d"
      },
      "outputs": [
        {
          "data": {
            "text/plain": [
              "\"built, run and supported by seattle tech and start up veterans, grokhome's focus is to create a supportive environment for smart people working on interesting projects, start ups and more. this listing is an upper bunk, in a 2-person shared room. *note: this fall, there will be major renovations happening on one kitchen and bathroom at a time. there will always be two other working kitchens and two working bathrooms in the house. we'll work to minimize the impact these renovations have on your stay. **this listing is only available to those working in the tech/science space. live in a hacker house, and immerse yourself in the seattle tech scene. you can expect to be surrounded by smart people solving big problems or working on something fun. we have frequent demo nights, and love when our guests share something they are passionate about. if you're new to the city, our deep ties to the seattle tech scene can help you get involved. expand your network, develop your ideas, and learn somet\""
            ]
          },
          "execution_count": 61,
          "metadata": {},
          "output_type": "execute_result"
        }
      ],
      "source": [
        "datos['descripcion_local'][3169]"
      ]
    },
    {
      "cell_type": "code",
      "execution_count": 62,
      "metadata": {
        "id": "gFWM1apUrS6b"
      },
      "outputs": [
        {
          "name": "stderr",
          "output_type": "stream",
          "text": [
            "<>:1: SyntaxWarning: invalid escape sequence '\\-'\n",
            "<>:1: SyntaxWarning: invalid escape sequence '\\-'\n",
            "/tmp/ipykernel_16742/538571734.py:1: SyntaxWarning: invalid escape sequence '\\-'\n",
            "  datos['descripcion_local'] = datos['descripcion_local'].str.replace('[^a-zA-Z0-9\\-\\']',' ',regex=True)\n"
          ]
        }
      ],
      "source": [
        "datos['descripcion_local'] = datos['descripcion_local'].str.replace('[^a-zA-Z0-9\\-\\']',' ',regex=True)"
      ]
    },
    {
      "cell_type": "code",
      "execution_count": 63,
      "metadata": {
        "id": "XXnjezcQrS9B"
      },
      "outputs": [
        {
          "name": "stderr",
          "output_type": "stream",
          "text": [
            "<>:1: SyntaxWarning: invalid escape sequence '\\w'\n",
            "<>:1: SyntaxWarning: invalid escape sequence '\\w'\n",
            "/tmp/ipykernel_16742/177244694.py:1: SyntaxWarning: invalid escape sequence '\\w'\n",
            "  datos['descripcion_local'] = datos['descripcion_local'].str.replace('(?<!\\w)-(?!\\w)',' ',regex=True)\n"
          ]
        }
      ],
      "source": [
        "datos['descripcion_local'] = datos['descripcion_local'].str.replace('(?<!\\w)-(?!\\w)',' ',regex=True)"
      ]
    },
    {
      "cell_type": "code",
      "execution_count": 64,
      "metadata": {
        "colab": {
          "base_uri": "https://localhost:8080/"
        },
        "id": "ELMKxERwrS_o",
        "outputId": "cdbda693-0287-41f4-890c-942797aacabd"
      },
      "outputs": [
        {
          "data": {
            "text/plain": [
              "0    this clean and comfortable one bedroom sits ri...\n",
              "1    our century old upper queen anne house is loca...\n",
              "2    cozy room in two-bedroom apartment along the l...\n",
              "3    very lovely and cozy room for one  convenientl...\n",
              "4    the  studio at mibbett hollow' is in a beautif...\n",
              "Name: descripcion_local, dtype: object"
            ]
          },
          "execution_count": 64,
          "metadata": {},
          "output_type": "execute_result"
        }
      ],
      "source": [
        "datos['descripcion_local'].head()"
      ]
    },
    {
      "cell_type": "code",
      "execution_count": 65,
      "metadata": {
        "colab": {
          "base_uri": "https://localhost:8080/",
          "height": 400
        },
        "id": "jF1f7-9xrTv5",
        "outputId": "8fedbb86-be78-4f01-dc62-eb6a9783d3dd"
      },
      "outputs": [
        {
          "data": {
            "text/html": [
              "<div>\n",
              "<style scoped>\n",
              "    .dataframe tbody tr th:only-of-type {\n",
              "        vertical-align: middle;\n",
              "    }\n",
              "\n",
              "    .dataframe tbody tr th {\n",
              "        vertical-align: top;\n",
              "    }\n",
              "\n",
              "    .dataframe thead th {\n",
              "        text-align: right;\n",
              "    }\n",
              "</style>\n",
              "<table border=\"1\" class=\"dataframe\">\n",
              "  <thead>\n",
              "    <tr style=\"text-align: right;\">\n",
              "      <th></th>\n",
              "      <th>evaluacion_general</th>\n",
              "      <th>experiencia_local</th>\n",
              "      <th>max_hospedes</th>\n",
              "      <th>descripcion_local</th>\n",
              "      <th>descripcion_vecindad</th>\n",
              "      <th>cantidad_baños</th>\n",
              "      <th>cantidad_cuartos</th>\n",
              "      <th>cantidad_camas</th>\n",
              "      <th>modelo_cama</th>\n",
              "      <th>comodidades</th>\n",
              "      <th>cuota_deposito</th>\n",
              "      <th>cuota_limpieza</th>\n",
              "      <th>precio</th>\n",
              "    </tr>\n",
              "  </thead>\n",
              "  <tbody>\n",
              "    <tr>\n",
              "      <th>0</th>\n",
              "      <td>10.0</td>\n",
              "      <td>--</td>\n",
              "      <td>1</td>\n",
              "      <td>[this, clean, and, comfortable, one, bedroom, ...</td>\n",
              "      <td>Lower Queen Anne is near the Seattle Center (s...</td>\n",
              "      <td>1</td>\n",
              "      <td>1</td>\n",
              "      <td>1</td>\n",
              "      <td>Real Bed</td>\n",
              "      <td>{Internet,\"Wireless Internet\",Kitchen,\"Free Pa...</td>\n",
              "      <td>0.0</td>\n",
              "      <td>0.0</td>\n",
              "      <td>110.0</td>\n",
              "    </tr>\n",
              "    <tr>\n",
              "      <th>1</th>\n",
              "      <td>10.0</td>\n",
              "      <td>--</td>\n",
              "      <td>1</td>\n",
              "      <td>[our, century, old, upper, queen, anne, house,...</td>\n",
              "      <td>Upper Queen Anne is a really pleasant, unique ...</td>\n",
              "      <td>1</td>\n",
              "      <td>1</td>\n",
              "      <td>1</td>\n",
              "      <td>Futon</td>\n",
              "      <td>{TV,Internet,\"Wireless Internet\",Kitchen,\"Free...</td>\n",
              "      <td>0.0</td>\n",
              "      <td>0.0</td>\n",
              "      <td>45.0</td>\n",
              "    </tr>\n",
              "    <tr>\n",
              "      <th>2</th>\n",
              "      <td>10.0</td>\n",
              "      <td>--</td>\n",
              "      <td>1</td>\n",
              "      <td>[cozy, room, in, two-bedroom, apartment, along...</td>\n",
              "      <td>The convenience of being in Seattle but on the...</td>\n",
              "      <td>1</td>\n",
              "      <td>1</td>\n",
              "      <td>1</td>\n",
              "      <td>Futon</td>\n",
              "      <td>{TV,Internet,\"Wireless Internet\",Kitchen,\"Free...</td>\n",
              "      <td>0.0</td>\n",
              "      <td>0.0</td>\n",
              "      <td>55.0</td>\n",
              "    </tr>\n",
              "    <tr>\n",
              "      <th>3</th>\n",
              "      <td>10.0</td>\n",
              "      <td>--</td>\n",
              "      <td>1</td>\n",
              "      <td>[very, lovely, and, cozy, room, for, one, conv...</td>\n",
              "      <td>Ballard is lovely, vibrant and one of the most...</td>\n",
              "      <td>1</td>\n",
              "      <td>1</td>\n",
              "      <td>1</td>\n",
              "      <td>Pull-out Sofa</td>\n",
              "      <td>{Internet,\"Wireless Internet\",Kitchen,\"Free Pa...</td>\n",
              "      <td>0.0</td>\n",
              "      <td>20.0</td>\n",
              "      <td>52.0</td>\n",
              "    </tr>\n",
              "    <tr>\n",
              "      <th>4</th>\n",
              "      <td>10.0</td>\n",
              "      <td>--</td>\n",
              "      <td>1</td>\n",
              "      <td>[the, studio, at, mibbett, hollow', is, in, a,...</td>\n",
              "      <td>--</td>\n",
              "      <td>1</td>\n",
              "      <td>1</td>\n",
              "      <td>1</td>\n",
              "      <td>Real Bed</td>\n",
              "      <td>{\"Wireless Internet\",Kitchen,\"Free Parking on ...</td>\n",
              "      <td>0.0</td>\n",
              "      <td>15.0</td>\n",
              "      <td>85.0</td>\n",
              "    </tr>\n",
              "  </tbody>\n",
              "</table>\n",
              "</div>"
            ],
            "text/plain": [
              "   evaluacion_general experiencia_local  max_hospedes  \\\n",
              "0                10.0                --             1   \n",
              "1                10.0                --             1   \n",
              "2                10.0                --             1   \n",
              "3                10.0                --             1   \n",
              "4                10.0                --             1   \n",
              "\n",
              "                                   descripcion_local  \\\n",
              "0  [this, clean, and, comfortable, one, bedroom, ...   \n",
              "1  [our, century, old, upper, queen, anne, house,...   \n",
              "2  [cozy, room, in, two-bedroom, apartment, along...   \n",
              "3  [very, lovely, and, cozy, room, for, one, conv...   \n",
              "4  [the, studio, at, mibbett, hollow', is, in, a,...   \n",
              "\n",
              "                                descripcion_vecindad  cantidad_baños  \\\n",
              "0  Lower Queen Anne is near the Seattle Center (s...               1   \n",
              "1  Upper Queen Anne is a really pleasant, unique ...               1   \n",
              "2  The convenience of being in Seattle but on the...               1   \n",
              "3  Ballard is lovely, vibrant and one of the most...               1   \n",
              "4                                                 --               1   \n",
              "\n",
              "   cantidad_cuartos  cantidad_camas    modelo_cama  \\\n",
              "0                 1               1       Real Bed   \n",
              "1                 1               1          Futon   \n",
              "2                 1               1          Futon   \n",
              "3                 1               1  Pull-out Sofa   \n",
              "4                 1               1       Real Bed   \n",
              "\n",
              "                                         comodidades  cuota_deposito  \\\n",
              "0  {Internet,\"Wireless Internet\",Kitchen,\"Free Pa...             0.0   \n",
              "1  {TV,Internet,\"Wireless Internet\",Kitchen,\"Free...             0.0   \n",
              "2  {TV,Internet,\"Wireless Internet\",Kitchen,\"Free...             0.0   \n",
              "3  {Internet,\"Wireless Internet\",Kitchen,\"Free Pa...             0.0   \n",
              "4  {\"Wireless Internet\",Kitchen,\"Free Parking on ...             0.0   \n",
              "\n",
              "   cuota_limpieza  precio  \n",
              "0             0.0   110.0  \n",
              "1             0.0    45.0  \n",
              "2             0.0    55.0  \n",
              "3            20.0    52.0  \n",
              "4            15.0    85.0  "
            ]
          },
          "execution_count": 65,
          "metadata": {},
          "output_type": "execute_result"
        }
      ],
      "source": [
        "datos['descripcion_local'] = datos['descripcion_local'].str.split()\n",
        "datos.head()"
      ]
    },
    {
      "cell_type": "code",
      "execution_count": 66,
      "metadata": {
        "id": "FtbRBQV4rTzB"
      },
      "outputs": [
        {
          "name": "stderr",
          "output_type": "stream",
          "text": [
            "<>:1: SyntaxWarning: invalid escape sequence '\\{'\n",
            "<>:1: SyntaxWarning: invalid escape sequence '\\{'\n",
            "/tmp/ipykernel_16742/2646911477.py:1: SyntaxWarning: invalid escape sequence '\\{'\n",
            "  datos['comodidades'] = datos['comodidades'].str.replace('\\{|}|\\\"','', regex=True)\n"
          ]
        }
      ],
      "source": [
        "datos['comodidades'] = datos['comodidades'].str.replace('\\{|}|\\\"','', regex=True)"
      ]
    },
    {
      "cell_type": "code",
      "execution_count": 67,
      "metadata": {
        "colab": {
          "base_uri": "https://localhost:8080/",
          "height": 521
        },
        "id": "Mzqw6PLErT1V",
        "outputId": "1b1095ae-b466-4e18-f105-d04d9160d058"
      },
      "outputs": [
        {
          "data": {
            "text/html": [
              "<div>\n",
              "<style scoped>\n",
              "    .dataframe tbody tr th:only-of-type {\n",
              "        vertical-align: middle;\n",
              "    }\n",
              "\n",
              "    .dataframe tbody tr th {\n",
              "        vertical-align: top;\n",
              "    }\n",
              "\n",
              "    .dataframe thead th {\n",
              "        text-align: right;\n",
              "    }\n",
              "</style>\n",
              "<table border=\"1\" class=\"dataframe\">\n",
              "  <thead>\n",
              "    <tr style=\"text-align: right;\">\n",
              "      <th></th>\n",
              "      <th>evaluacion_general</th>\n",
              "      <th>experiencia_local</th>\n",
              "      <th>max_hospedes</th>\n",
              "      <th>descripcion_local</th>\n",
              "      <th>descripcion_vecindad</th>\n",
              "      <th>cantidad_baños</th>\n",
              "      <th>cantidad_cuartos</th>\n",
              "      <th>cantidad_camas</th>\n",
              "      <th>modelo_cama</th>\n",
              "      <th>comodidades</th>\n",
              "      <th>cuota_deposito</th>\n",
              "      <th>cuota_limpieza</th>\n",
              "      <th>precio</th>\n",
              "    </tr>\n",
              "  </thead>\n",
              "  <tbody>\n",
              "    <tr>\n",
              "      <th>0</th>\n",
              "      <td>10.0</td>\n",
              "      <td>--</td>\n",
              "      <td>1</td>\n",
              "      <td>[this, clean, and, comfortable, one, bedroom, ...</td>\n",
              "      <td>Lower Queen Anne is near the Seattle Center (s...</td>\n",
              "      <td>1</td>\n",
              "      <td>1</td>\n",
              "      <td>1</td>\n",
              "      <td>Real Bed</td>\n",
              "      <td>[Internet, Wireless Internet, Kitchen, Free Pa...</td>\n",
              "      <td>0.0</td>\n",
              "      <td>0.0</td>\n",
              "      <td>110.0</td>\n",
              "    </tr>\n",
              "    <tr>\n",
              "      <th>1</th>\n",
              "      <td>10.0</td>\n",
              "      <td>--</td>\n",
              "      <td>1</td>\n",
              "      <td>[our, century, old, upper, queen, anne, house,...</td>\n",
              "      <td>Upper Queen Anne is a really pleasant, unique ...</td>\n",
              "      <td>1</td>\n",
              "      <td>1</td>\n",
              "      <td>1</td>\n",
              "      <td>Futon</td>\n",
              "      <td>[TV, Internet, Wireless Internet, Kitchen, Fre...</td>\n",
              "      <td>0.0</td>\n",
              "      <td>0.0</td>\n",
              "      <td>45.0</td>\n",
              "    </tr>\n",
              "    <tr>\n",
              "      <th>2</th>\n",
              "      <td>10.0</td>\n",
              "      <td>--</td>\n",
              "      <td>1</td>\n",
              "      <td>[cozy, room, in, two-bedroom, apartment, along...</td>\n",
              "      <td>The convenience of being in Seattle but on the...</td>\n",
              "      <td>1</td>\n",
              "      <td>1</td>\n",
              "      <td>1</td>\n",
              "      <td>Futon</td>\n",
              "      <td>[TV, Internet, Wireless Internet, Kitchen, Fre...</td>\n",
              "      <td>0.0</td>\n",
              "      <td>0.0</td>\n",
              "      <td>55.0</td>\n",
              "    </tr>\n",
              "    <tr>\n",
              "      <th>3</th>\n",
              "      <td>10.0</td>\n",
              "      <td>--</td>\n",
              "      <td>1</td>\n",
              "      <td>[very, lovely, and, cozy, room, for, one, conv...</td>\n",
              "      <td>Ballard is lovely, vibrant and one of the most...</td>\n",
              "      <td>1</td>\n",
              "      <td>1</td>\n",
              "      <td>1</td>\n",
              "      <td>Pull-out Sofa</td>\n",
              "      <td>[Internet, Wireless Internet, Kitchen, Free Pa...</td>\n",
              "      <td>0.0</td>\n",
              "      <td>20.0</td>\n",
              "      <td>52.0</td>\n",
              "    </tr>\n",
              "    <tr>\n",
              "      <th>4</th>\n",
              "      <td>10.0</td>\n",
              "      <td>--</td>\n",
              "      <td>1</td>\n",
              "      <td>[the, studio, at, mibbett, hollow', is, in, a,...</td>\n",
              "      <td>--</td>\n",
              "      <td>1</td>\n",
              "      <td>1</td>\n",
              "      <td>1</td>\n",
              "      <td>Real Bed</td>\n",
              "      <td>[Wireless Internet, Kitchen, Free Parking on P...</td>\n",
              "      <td>0.0</td>\n",
              "      <td>15.0</td>\n",
              "      <td>85.0</td>\n",
              "    </tr>\n",
              "  </tbody>\n",
              "</table>\n",
              "</div>"
            ],
            "text/plain": [
              "   evaluacion_general experiencia_local  max_hospedes  \\\n",
              "0                10.0                --             1   \n",
              "1                10.0                --             1   \n",
              "2                10.0                --             1   \n",
              "3                10.0                --             1   \n",
              "4                10.0                --             1   \n",
              "\n",
              "                                   descripcion_local  \\\n",
              "0  [this, clean, and, comfortable, one, bedroom, ...   \n",
              "1  [our, century, old, upper, queen, anne, house,...   \n",
              "2  [cozy, room, in, two-bedroom, apartment, along...   \n",
              "3  [very, lovely, and, cozy, room, for, one, conv...   \n",
              "4  [the, studio, at, mibbett, hollow', is, in, a,...   \n",
              "\n",
              "                                descripcion_vecindad  cantidad_baños  \\\n",
              "0  Lower Queen Anne is near the Seattle Center (s...               1   \n",
              "1  Upper Queen Anne is a really pleasant, unique ...               1   \n",
              "2  The convenience of being in Seattle but on the...               1   \n",
              "3  Ballard is lovely, vibrant and one of the most...               1   \n",
              "4                                                 --               1   \n",
              "\n",
              "   cantidad_cuartos  cantidad_camas    modelo_cama  \\\n",
              "0                 1               1       Real Bed   \n",
              "1                 1               1          Futon   \n",
              "2                 1               1          Futon   \n",
              "3                 1               1  Pull-out Sofa   \n",
              "4                 1               1       Real Bed   \n",
              "\n",
              "                                         comodidades  cuota_deposito  \\\n",
              "0  [Internet, Wireless Internet, Kitchen, Free Pa...             0.0   \n",
              "1  [TV, Internet, Wireless Internet, Kitchen, Fre...             0.0   \n",
              "2  [TV, Internet, Wireless Internet, Kitchen, Fre...             0.0   \n",
              "3  [Internet, Wireless Internet, Kitchen, Free Pa...             0.0   \n",
              "4  [Wireless Internet, Kitchen, Free Parking on P...             0.0   \n",
              "\n",
              "   cuota_limpieza  precio  \n",
              "0             0.0   110.0  \n",
              "1             0.0    45.0  \n",
              "2             0.0    55.0  \n",
              "3            20.0    52.0  \n",
              "4            15.0    85.0  "
            ]
          },
          "execution_count": 67,
          "metadata": {},
          "output_type": "execute_result"
        }
      ],
      "source": [
        "datos['comodidades'] = datos['comodidades'].str.split(',')\n",
        "datos.head()"
      ]
    },
    {
      "cell_type": "markdown",
      "metadata": {
        "id": "GMz8sOgernz8"
      },
      "source": [
        "#**4. Datos de tiempo**\n",
        "\n",
        "\n",
        "---\n",
        "\n",
        "\n"
      ]
    },
    {
      "cell_type": "code",
      "execution_count": 68,
      "metadata": {
        "colab": {
          "base_uri": "https://localhost:8080/",
          "height": 206
        },
        "id": "-_gk4xx_5yVJ",
        "outputId": "7ddb2505-63be-46c6-973f-3bd660d0391f"
      },
      "outputs": [
        {
          "data": {
            "text/html": [
              "<div>\n",
              "<style scoped>\n",
              "    .dataframe tbody tr th:only-of-type {\n",
              "        vertical-align: middle;\n",
              "    }\n",
              "\n",
              "    .dataframe tbody tr th {\n",
              "        vertical-align: top;\n",
              "    }\n",
              "\n",
              "    .dataframe thead th {\n",
              "        text-align: right;\n",
              "    }\n",
              "</style>\n",
              "<table border=\"1\" class=\"dataframe\">\n",
              "  <thead>\n",
              "    <tr style=\"text-align: right;\">\n",
              "      <th></th>\n",
              "      <th>id</th>\n",
              "      <th>fecha</th>\n",
              "      <th>lugar_disponible</th>\n",
              "      <th>precio</th>\n",
              "    </tr>\n",
              "  </thead>\n",
              "  <tbody>\n",
              "    <tr>\n",
              "      <th>0</th>\n",
              "      <td>857</td>\n",
              "      <td>2016-01-04</td>\n",
              "      <td>False</td>\n",
              "      <td>None</td>\n",
              "    </tr>\n",
              "    <tr>\n",
              "      <th>1</th>\n",
              "      <td>857</td>\n",
              "      <td>2016-01-05</td>\n",
              "      <td>False</td>\n",
              "      <td>None</td>\n",
              "    </tr>\n",
              "    <tr>\n",
              "      <th>2</th>\n",
              "      <td>857</td>\n",
              "      <td>2016-01-06</td>\n",
              "      <td>False</td>\n",
              "      <td>None</td>\n",
              "    </tr>\n",
              "    <tr>\n",
              "      <th>3</th>\n",
              "      <td>857</td>\n",
              "      <td>2016-01-07</td>\n",
              "      <td>False</td>\n",
              "      <td>None</td>\n",
              "    </tr>\n",
              "    <tr>\n",
              "      <th>4</th>\n",
              "      <td>857</td>\n",
              "      <td>2016-01-08</td>\n",
              "      <td>False</td>\n",
              "      <td>None</td>\n",
              "    </tr>\n",
              "  </tbody>\n",
              "</table>\n",
              "</div>"
            ],
            "text/plain": [
              "    id       fecha  lugar_disponible precio\n",
              "0  857  2016-01-04             False   None\n",
              "1  857  2016-01-05             False   None\n",
              "2  857  2016-01-06             False   None\n",
              "3  857  2016-01-07             False   None\n",
              "4  857  2016-01-08             False   None"
            ]
          },
          "execution_count": 68,
          "metadata": {},
          "output_type": "execute_result"
        }
      ],
      "source": [
        "dt_data = pd.read_json('./data/inmuebles_disponibles.json')\n",
        "dt_data.head()"
      ]
    },
    {
      "cell_type": "code",
      "execution_count": 69,
      "metadata": {
        "colab": {
          "base_uri": "https://localhost:8080/"
        },
        "id": "1XU9XPMP8jDv",
        "outputId": "e9bde25c-230d-4100-f322-d2c322fce4a7"
      },
      "outputs": [
        {
          "name": "stdout",
          "output_type": "stream",
          "text": [
            "<class 'pandas.core.frame.DataFrame'>\n",
            "Index: 365000 entries, 0 to 364999\n",
            "Data columns (total 4 columns):\n",
            " #   Column            Non-Null Count   Dtype \n",
            "---  ------            --------------   ----- \n",
            " 0   id                365000 non-null  int64 \n",
            " 1   fecha             365000 non-null  object\n",
            " 2   lugar_disponible  365000 non-null  bool  \n",
            " 3   precio            270547 non-null  object\n",
            "dtypes: bool(1), int64(1), object(2)\n",
            "memory usage: 11.5+ MB\n"
          ]
        }
      ],
      "source": [
        "dt_data.info()"
      ]
    },
    {
      "cell_type": "code",
      "execution_count": 70,
      "metadata": {
        "id": "ettRpLTf8jGq"
      },
      "outputs": [],
      "source": [
        "dt_data['fecha'] = pd.to_datetime(dt_data['fecha'])"
      ]
    },
    {
      "cell_type": "code",
      "execution_count": 71,
      "metadata": {
        "colab": {
          "base_uri": "https://localhost:8080/"
        },
        "id": "3qx5sjYC8jJR",
        "outputId": "084e9c89-8168-4f4e-924c-79899cb605cd"
      },
      "outputs": [
        {
          "name": "stdout",
          "output_type": "stream",
          "text": [
            "<class 'pandas.core.frame.DataFrame'>\n",
            "Index: 365000 entries, 0 to 364999\n",
            "Data columns (total 4 columns):\n",
            " #   Column            Non-Null Count   Dtype         \n",
            "---  ------            --------------   -----         \n",
            " 0   id                365000 non-null  int64         \n",
            " 1   fecha             365000 non-null  datetime64[ns]\n",
            " 2   lugar_disponible  365000 non-null  bool          \n",
            " 3   precio            270547 non-null  object        \n",
            "dtypes: bool(1), datetime64[ns](1), int64(1), object(1)\n",
            "memory usage: 11.5+ MB\n"
          ]
        }
      ],
      "source": [
        "dt_data.info()"
      ]
    },
    {
      "cell_type": "code",
      "execution_count": 72,
      "metadata": {
        "colab": {
          "base_uri": "https://localhost:8080/",
          "height": 363
        },
        "id": "o5eVZ0mxA22d",
        "outputId": "0b4b66df-abe4-4d43-926d-054ea194e253"
      },
      "outputs": [
        {
          "data": {
            "text/html": [
              "<div>\n",
              "<style scoped>\n",
              "    .dataframe tbody tr th:only-of-type {\n",
              "        vertical-align: middle;\n",
              "    }\n",
              "\n",
              "    .dataframe tbody tr th {\n",
              "        vertical-align: top;\n",
              "    }\n",
              "\n",
              "    .dataframe thead th {\n",
              "        text-align: right;\n",
              "    }\n",
              "</style>\n",
              "<table border=\"1\" class=\"dataframe\">\n",
              "  <thead>\n",
              "    <tr style=\"text-align: right;\">\n",
              "      <th></th>\n",
              "      <th>id</th>\n",
              "      <th>fecha</th>\n",
              "      <th>lugar_disponible</th>\n",
              "      <th>precio</th>\n",
              "    </tr>\n",
              "  </thead>\n",
              "  <tbody>\n",
              "    <tr>\n",
              "      <th>302691</th>\n",
              "      <td>2898</td>\n",
              "      <td>2016-04-19</td>\n",
              "      <td>False</td>\n",
              "      <td>None</td>\n",
              "    </tr>\n",
              "    <tr>\n",
              "      <th>204129</th>\n",
              "      <td>2515</td>\n",
              "      <td>2016-04-07</td>\n",
              "      <td>True</td>\n",
              "      <td>$55.00</td>\n",
              "    </tr>\n",
              "    <tr>\n",
              "      <th>100959</th>\n",
              "      <td>34</td>\n",
              "      <td>2016-08-10</td>\n",
              "      <td>True</td>\n",
              "      <td>$75.00</td>\n",
              "    </tr>\n",
              "    <tr>\n",
              "      <th>357093</th>\n",
              "      <td>3563</td>\n",
              "      <td>2016-05-06</td>\n",
              "      <td>True</td>\n",
              "      <td>$189.00</td>\n",
              "    </tr>\n",
              "    <tr>\n",
              "      <th>330781</th>\n",
              "      <td>1499</td>\n",
              "      <td>2016-04-04</td>\n",
              "      <td>True</td>\n",
              "      <td>$90.00</td>\n",
              "    </tr>\n",
              "    <tr>\n",
              "      <th>152332</th>\n",
              "      <td>2907</td>\n",
              "      <td>2016-05-10</td>\n",
              "      <td>False</td>\n",
              "      <td>None</td>\n",
              "    </tr>\n",
              "    <tr>\n",
              "      <th>217640</th>\n",
              "      <td>3239</td>\n",
              "      <td>2016-04-13</td>\n",
              "      <td>True</td>\n",
              "      <td>$62.00</td>\n",
              "    </tr>\n",
              "    <tr>\n",
              "      <th>319641</th>\n",
              "      <td>460</td>\n",
              "      <td>2016-09-26</td>\n",
              "      <td>True</td>\n",
              "      <td>$250.00</td>\n",
              "    </tr>\n",
              "    <tr>\n",
              "      <th>273590</th>\n",
              "      <td>52</td>\n",
              "      <td>2016-07-27</td>\n",
              "      <td>True</td>\n",
              "      <td>$265.00</td>\n",
              "    </tr>\n",
              "    <tr>\n",
              "      <th>311153</th>\n",
              "      <td>2597</td>\n",
              "      <td>2016-06-25</td>\n",
              "      <td>True</td>\n",
              "      <td>$55.00</td>\n",
              "    </tr>\n",
              "  </tbody>\n",
              "</table>\n",
              "</div>"
            ],
            "text/plain": [
              "          id      fecha  lugar_disponible   precio\n",
              "302691  2898 2016-04-19             False     None\n",
              "204129  2515 2016-04-07              True   $55.00\n",
              "100959    34 2016-08-10              True   $75.00\n",
              "357093  3563 2016-05-06              True  $189.00\n",
              "330781  1499 2016-04-04              True   $90.00\n",
              "152332  2907 2016-05-10             False     None\n",
              "217640  3239 2016-04-13              True   $62.00\n",
              "319641   460 2016-09-26              True  $250.00\n",
              "273590    52 2016-07-27              True  $265.00\n",
              "311153  2597 2016-06-25              True   $55.00"
            ]
          },
          "execution_count": 72,
          "metadata": {},
          "output_type": "execute_result"
        }
      ],
      "source": [
        "dt_data.sample(10)"
      ]
    },
    {
      "cell_type": "code",
      "execution_count": 73,
      "metadata": {
        "colab": {
          "base_uri": "https://localhost:8080/"
        },
        "id": "BibmVbRcBRln",
        "outputId": "cdcd7e53-3b3a-4604-fdce-a95163563104"
      },
      "outputs": [
        {
          "data": {
            "text/plain": [
              "0         2016-01\n",
              "1         2016-01\n",
              "2         2016-01\n",
              "3         2016-01\n",
              "4         2016-01\n",
              "           ...   \n",
              "364995    2016-12\n",
              "364996    2016-12\n",
              "364997    2016-12\n",
              "364998    2017-01\n",
              "364999    2017-01\n",
              "Name: fecha, Length: 365000, dtype: object"
            ]
          },
          "execution_count": 73,
          "metadata": {},
          "output_type": "execute_result"
        }
      ],
      "source": [
        "dt_data['fecha'].dt.strftime('%Y-%m')"
      ]
    },
    {
      "cell_type": "code",
      "execution_count": 74,
      "metadata": {
        "colab": {
          "base_uri": "https://localhost:8080/"
        },
        "id": "dc0MviSECNuD",
        "outputId": "996cecef-e14b-4e49-b558-638278a15ea1"
      },
      "outputs": [
        {
          "data": {
            "text/plain": [
              "fecha\n",
              "2016-01    16543\n",
              "2016-02    20128\n",
              "2016-03    23357\n",
              "2016-04    22597\n",
              "2016-05    23842\n",
              "2016-06    23651\n",
              "2016-07    22329\n",
              "2016-08    22529\n",
              "2016-09    22471\n",
              "2016-10    23765\n",
              "2016-11    23352\n",
              "2016-12    24409\n",
              "2017-01     1574\n",
              "Name: lugar_disponible, dtype: int64"
            ]
          },
          "execution_count": 74,
          "metadata": {},
          "output_type": "execute_result"
        }
      ],
      "source": [
        "subset = dt_data.groupby(dt_data['fecha'].dt.strftime('%Y-%m'))['lugar_disponible'].sum()\n",
        "subset"
      ]
    }
  ],
  "metadata": {
    "colab": {
      "collapsed_sections": [
        "x34W-kzrq5aR",
        "dMl2hM7RraIN",
        "GMz8sOgernz8"
      ],
      "provenance": []
    },
    "kernelspec": {
      "display_name": ".venv",
      "language": "python",
      "name": "python3"
    },
    "language_info": {
      "name": "python",
      "version": "3.13.3"
    }
  },
  "nbformat": 4,
  "nbformat_minor": 0
}
